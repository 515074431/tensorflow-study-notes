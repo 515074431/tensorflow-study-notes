{
 "cells": [
  {
   "cell_type": "markdown",
   "metadata": {},
   "source": [
    "#### TensorBoard可视化来检查并监控深度学习模型"
   ]
  },
  {
   "cell_type": "code",
   "execution_count": 1,
   "metadata": {},
   "outputs": [
    {
     "name": "stderr",
     "output_type": "stream",
     "text": [
      "Using TensorFlow backend.\n"
     ]
    }
   ],
   "source": [
    "import keras\n",
    "from keras import layers\n",
    "from keras.datasets import imdb\n",
    "from keras.preprocessing import sequence"
   ]
  },
  {
   "cell_type": "code",
   "execution_count": 2,
   "metadata": {},
   "outputs": [
    {
     "name": "stdout",
     "output_type": "stream",
     "text": [
      "Downloading data from https://s3.amazonaws.com/text-datasets/imdb.npz\n",
      "17465344/17464789 [==============================] - 33s 2us/step\n",
      "WARNING:tensorflow:From /Users/david/anaconda3/lib/python3.7/site-packages/tensorflow/python/framework/op_def_library.py:263: colocate_with (from tensorflow.python.framework.ops) is deprecated and will be removed in a future version.\n",
      "Instructions for updating:\n",
      "Colocations handled automatically by placer.\n",
      "_________________________________________________________________\n",
      "Layer (type)                 Output Shape              Param #   \n",
      "=================================================================\n",
      "embed (Embedding)            (None, 500, 128)          64000     \n",
      "_________________________________________________________________\n",
      "conv1d_1 (Conv1D)            (None, 494, 32)           28704     \n",
      "_________________________________________________________________\n",
      "max_pooling1d_1 (MaxPooling1 (None, 98, 32)            0         \n",
      "_________________________________________________________________\n",
      "conv1d_2 (Conv1D)            (None, 92, 32)            7200      \n",
      "_________________________________________________________________\n",
      "global_max_pooling1d_1 (Glob (None, 32)                0         \n",
      "_________________________________________________________________\n",
      "dense_1 (Dense)              (None, 1)                 33        \n",
      "=================================================================\n",
      "Total params: 99,937\n",
      "Trainable params: 99,937\n",
      "Non-trainable params: 0\n",
      "_________________________________________________________________\n"
     ]
    }
   ],
   "source": [
    "max_features = 500 #原来2000 #作为特征的单词个数\n",
    "max_len = 500\n",
    "\n",
    "(x_train, y_train), (x_test, y_test) = imdb.load_data(num_words=max_features)\n",
    "x_train = sequence.pad_sequences(x_train, maxlen=max_len)\n",
    "x_test = sequence.pad_sequences(x_test, maxlen=max_len)\n",
    "\n",
    "model = keras.models.Sequential()\n",
    "model.add(layers.Embedding(max_features, 128,\n",
    "                          input_length=max_len,\n",
    "                          name='embed'))\n",
    "model.add(layers.Conv1D(32, 7, activation='relu'))\n",
    "model.add(layers.MaxPooling1D(5))\n",
    "model.add(layers.Conv1D(32, 7, activation='relu'))\n",
    "model.add(layers.GlobalMaxPooling1D())\n",
    "model.add(layers.Dense(1))\n",
    "model.summary()\n",
    "model.compile(optimizer='rmsprop',\n",
    "             loss='binary_crossentropy',\n",
    "             metrics=['acc'])"
   ]
  },
  {
   "cell_type": "markdown",
   "metadata": {},
   "source": [
    "我们用一个TensorBoard 回调函数实例来启动训练。这个回调函数会将日志事件写入硬\n",
    "盘的指定位置\n"
   ]
  },
  {
   "cell_type": "code",
   "execution_count": 5,
   "metadata": {
    "scrolled": false
   },
   "outputs": [
    {
     "name": "stdout",
     "output_type": "stream",
     "text": [
      "Train on 20000 samples, validate on 5000 samples\n",
      "Epoch 1/20\n",
      "20000/20000 [==============================] - 70s 3ms/step - loss: 0.4118 - acc: 0.7967 - val_loss: 0.5123 - val_acc: 0.7838\n",
      "Epoch 2/20\n",
      "20000/20000 [==============================] - 69s 3ms/step - loss: 0.3769 - acc: 0.7942 - val_loss: 0.8034 - val_acc: 0.6678\n",
      "Epoch 3/20\n",
      "20000/20000 [==============================] - 68s 3ms/step - loss: 0.3496 - acc: 0.7750 - val_loss: 0.6143 - val_acc: 0.7334\n",
      "Epoch 4/20\n",
      "20000/20000 [==============================] - 69s 3ms/step - loss: 0.3206 - acc: 0.7615 - val_loss: 0.8943 - val_acc: 0.6224\n",
      "Epoch 5/20\n",
      "20000/20000 [==============================] - 72s 4ms/step - loss: 0.3018 - acc: 0.7399 - val_loss: 0.8193 - val_acc: 0.6418\n",
      "Epoch 6/20\n",
      "20000/20000 [==============================] - 71s 4ms/step - loss: 0.2763 - acc: 0.7131 - val_loss: 0.7140 - val_acc: 0.6600\n",
      "WARNING:tensorflow:From /Users/david/anaconda3/lib/python3.7/site-packages/tensorflow/python/training/saver.py:966: remove_checkpoint (from tensorflow.python.training.checkpoint_management) is deprecated and will be removed in a future version.\n",
      "Instructions for updating:\n",
      "Use standard file APIs to delete files with this prefix.\n",
      "Epoch 7/20\n",
      "20000/20000 [==============================] - 71s 4ms/step - loss: 0.2533 - acc: 0.7011 - val_loss: 1.2032 - val_acc: 0.5104\n",
      "Epoch 8/20\n",
      "20000/20000 [==============================] - 70s 3ms/step - loss: 0.2249 - acc: 0.6801 - val_loss: 0.7930 - val_acc: 0.6122\n",
      "Epoch 9/20\n",
      "20000/20000 [==============================] - 70s 4ms/step - loss: 0.1919 - acc: 0.6445 - val_loss: 0.9223 - val_acc: 0.5440\n",
      "Epoch 10/20\n",
      "20000/20000 [==============================] - 70s 4ms/step - loss: 0.1941 - acc: 0.6096 - val_loss: 0.9040 - val_acc: 0.5492\n",
      "Epoch 11/20\n",
      "20000/20000 [==============================] - 71s 4ms/step - loss: 0.1647 - acc: 0.5950 - val_loss: 1.0451 - val_acc: 0.5128\n",
      "Epoch 12/20\n",
      "20000/20000 [==============================] - 70s 3ms/step - loss: 0.1479 - acc: 0.5508 - val_loss: 1.2589 - val_acc: 0.4284\n",
      "Epoch 13/20\n",
      "20000/20000 [==============================] - 70s 3ms/step - loss: 0.1307 - acc: 0.5090 - val_loss: 1.6980 - val_acc: 0.3824\n",
      "Epoch 14/20\n",
      "20000/20000 [==============================] - 70s 4ms/step - loss: 0.1293 - acc: 0.4801 - val_loss: 1.1572 - val_acc: 0.4250\n",
      "Epoch 15/20\n",
      "20000/20000 [==============================] - 70s 3ms/step - loss: 0.1123 - acc: 0.4461 - val_loss: 1.2604 - val_acc: 0.3724\n",
      "Epoch 16/20\n",
      "20000/20000 [==============================] - 71s 4ms/step - loss: 0.0917 - acc: 0.4242 - val_loss: 1.2798 - val_acc: 0.3762\n",
      "Epoch 17/20\n",
      "20000/20000 [==============================] - 70s 4ms/step - loss: 0.0942 - acc: 0.3988 - val_loss: 1.2747 - val_acc: 0.3676\n",
      "Epoch 18/20\n",
      "20000/20000 [==============================] - 70s 4ms/step - loss: 0.0899 - acc: 0.3825 - val_loss: 1.3278 - val_acc: 0.3494\n",
      "Epoch 19/20\n",
      "20000/20000 [==============================] - 70s 3ms/step - loss: 0.0861 - acc: 0.3435 - val_loss: 1.7342 - val_acc: 0.2996\n",
      "Epoch 20/20\n",
      "20000/20000 [==============================] - 70s 4ms/step - loss: 0.0965 - acc: 0.3215 - val_loss: 1.4079 - val_acc: 0.3202\n"
     ]
    }
   ],
   "source": [
    "callbacks = [\n",
    "    keras.callbacks.TensorBoard(log_dir='../TensorBoardLog',#日志文件将被写入这个位置\n",
    "                               histogram_freq=1,#每一轮之后记录激活直方图\n",
    "                               embeddings_freq=1,#每一轮之后记录嵌入数据\n",
    "                                embeddings_data =x_train[:500].astype('float32')\n",
    "                               )\n",
    "]\n",
    "\n",
    "history = model.fit(x_train, y_train,\n",
    "                   epochs=20,\n",
    "                   batch_size=128,\n",
    "                   validation_split=0.2,\n",
    "                   callbacks=callbacks\n",
    "                   )"
   ]
  },
  {
   "cell_type": "code",
   "execution_count": null,
   "metadata": {},
   "outputs": [],
   "source": []
  }
 ],
 "metadata": {
  "kernelspec": {
   "display_name": "Python 3",
   "language": "python",
   "name": "python3"
  },
  "language_info": {
   "codemirror_mode": {
    "name": "ipython",
    "version": 3
   },
   "file_extension": ".py",
   "mimetype": "text/x-python",
   "name": "python",
   "nbconvert_exporter": "python",
   "pygments_lexer": "ipython3",
   "version": "3.7.3"
  }
 },
 "nbformat": 4,
 "nbformat_minor": 2
}
