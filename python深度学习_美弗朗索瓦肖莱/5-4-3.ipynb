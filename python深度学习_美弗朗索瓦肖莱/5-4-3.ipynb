{
 "cells": [
  {
   "cell_type": "markdown",
   "metadata": {},
   "source": [
    "### 5.4.3　可视化类激活的热力图\n",
    "\n",
    "我还要介绍另一种可视化方法，它有助于了解一张图像的哪一部分让卷积神经网络做出了\n",
    "最终的分类决策。这有助于对卷积神经网络的决策过程进行调试，特别是出现分类错误的情况下。\n",
    "这种方法还可以定位图像中的特定目标。\n",
    "\n",
    "这种通用的技术叫作类激活图（CAM，class activation map）可视化，它是指对输入图像生\n",
    "成类激活的热力图。类激活热力图是与特定输出类别相关的二维分数网格，对任何输入图像的\n",
    "每个位置都要进行计算，它表示每个位置对该类别的重要程度。举例来说，对于输入到猫狗分\n",
    "类卷积神经网络的一张图像，CAM 可视化可以生成类别“猫”的热力图，表示图像的各个部分\n",
    "与“猫”的相似程度，CAM 可视化也会生成类别“狗”的热力图，表示图像的各个部分与“狗”\n",
    "的相似程度。\n",
    "\n",
    "我们将使用的具体实现方式是“Grad-CAM: visual explanations from deep networks via gradientbased\n",
    "localization”a 这篇论文中描述的方法。这种方法非常简单：给定一张输入图像，对于一个\n",
    "卷积层的输出特征图，用类别相对于通道的梯度对这个特征图中的每个通道进行加权。直观上\n",
    "来看，理解这个技巧的一种方法是，你是用“每个通道对类别的重要程度”对“输入图像对不\n",
    "同通道的激活强度”的空间图进行加权，从而得到了“输入图像对类别的激活强度”的空间图。"
   ]
  },
  {
   "cell_type": "code",
   "execution_count": null,
   "metadata": {},
   "outputs": [],
   "source": [
    "from keras.applications.vgg16 import VGG16"
   ]
  },
  {
   "cell_type": "code",
   "execution_count": null,
   "metadata": {},
   "outputs": [],
   "source": [
    "model = VGG16(weights='imagenet')#注意，网络中包括了密集连接分类器。在前面所有的例子中，我们都舍弃了这个分类器"
   ]
  },
  {
   "cell_type": "code",
   "execution_count": null,
   "metadata": {},
   "outputs": [],
   "source": [
    "model = VGG16"
   ]
  },
  {
   "cell_type": "code",
   "execution_count": null,
   "metadata": {},
   "outputs": [],
   "source": []
  }
 ],
 "metadata": {
  "kernelspec": {
   "display_name": "Python 3",
   "language": "python",
   "name": "python3"
  },
  "language_info": {
   "codemirror_mode": {
    "name": "ipython",
    "version": 3
   },
   "file_extension": ".py",
   "mimetype": "text/x-python",
   "name": "python",
   "nbconvert_exporter": "python",
   "pygments_lexer": "ipython3",
   "version": "3.7.3"
  }
 },
 "nbformat": 4,
 "nbformat_minor": 2
}
