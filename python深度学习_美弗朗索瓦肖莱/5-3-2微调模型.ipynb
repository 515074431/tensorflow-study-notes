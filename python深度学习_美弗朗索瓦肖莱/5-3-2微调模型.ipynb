{
 "cells": [
  {
   "cell_type": "markdown",
   "metadata": {
    "colab_type": "text",
    "id": "zZXBvuui9T74"
   },
   "source": [
    "#使用预训练的卷积神经网络"
   ]
  },
  {
   "cell_type": "markdown",
   "metadata": {
    "colab_type": "text",
    "id": "WUPgn23sr33X"
   },
   "source": [
    "## 挂载文件夹和数据集加载"
   ]
  },
  {
   "cell_type": "code",
   "execution_count": 1,
   "metadata": {
    "colab": {
     "base_uri": "https://localhost:8080/",
     "height": 142
    },
    "colab_type": "code",
    "executionInfo": {
     "elapsed": 62638,
     "status": "ok",
     "timestamp": 1564889040662,
     "user": {
      "displayName": "方明旺",
      "photoUrl": "https://lh4.googleusercontent.com/-mkhlHsh5fvw/AAAAAAAAAAI/AAAAAAAAAAA/uZC5ERYFZ4k/s64/photo.jpg",
      "userId": "06059548827349409826"
     },
     "user_tz": -480
    },
    "id": "amnqMcy6rU8m",
    "outputId": "24efa2bc-b2a8-47a5-cfc3-744a30fdb16f"
   },
   "outputs": [
    {
     "name": "stdout",
     "output_type": "stream",
     "text": [
      "Go to this URL in a browser: https://accounts.google.com/o/oauth2/auth?client_id=947318989803-6bn6qk8qdgf4n4g3pfee6491hc0brc4i.apps.googleusercontent.com&redirect_uri=urn%3Aietf%3Awg%3Aoauth%3A2.0%3Aoob&scope=email%20https%3A%2F%2Fwww.googleapis.com%2Fauth%2Fdocs.test%20https%3A%2F%2Fwww.googleapis.com%2Fauth%2Fdrive%20https%3A%2F%2Fwww.googleapis.com%2Fauth%2Fdrive.photos.readonly%20https%3A%2F%2Fwww.googleapis.com%2Fauth%2Fpeopleapi.readonly&response_type=code\n",
      "\n",
      "Enter your authorization code:\n",
      "··········\n",
      "Mounted at /content/drive\n"
     ]
    }
   ],
   "source": [
    "from google.colab import drive\n",
    "drive.mount('/content/drive')"
   ]
  },
  {
   "cell_type": "markdown",
   "metadata": {
    "colab_type": "text",
    "id": "-f_t-frvtT2C"
   },
   "source": [
    "将图像复制到训练、验证和测试的目录\n",
    "\n"
   ]
  },
  {
   "cell_type": "code",
   "execution_count": 0,
   "metadata": {
    "colab": {},
    "colab_type": "code",
    "id": "u6UnBBXKsaDb"
   },
   "outputs": [],
   "source": [
    "import os, shutil"
   ]
  },
  {
   "cell_type": "markdown",
   "metadata": {
    "colab_type": "text",
    "id": "ADUpdB47Xhkb"
   },
   "source": [
    " > **注意：**已经复制过的，不要再执行这一段"
   ]
  },
  {
   "cell_type": "code",
   "execution_count": 0,
   "metadata": {
    "colab": {},
    "colab_type": "code",
    "id": "wuGJBYMetdrV"
   },
   "outputs": [],
   "source": [
    "original_dataset_dir = '/content/drive/My Drive/data/dogs-vs-cats/train'\n",
    "\n",
    "base_dir = '/content/drive/My Drive/data/cats_and_dogs_small'\n",
    "os.mkdir(base_dir)\n",
    "\n",
    "train_dir = os.path.join(base_dir, 'train')\n",
    "os.mkdir(train_dir)\n",
    "validation_dir = os.path.join(base_dir,'validation')\n",
    "os.mkdir(validation_dir)\n",
    "test_dir = os.path.join(base_dir,'test')\n",
    "os.mkdir(test_dir)\n",
    "\n",
    "train_cats_dir = os.path.join(train_dir,'cats')\n",
    "os.mkdir(train_cats_dir)\n",
    "train_dogs_dir = os.path.join(train_dir,'dogs')\n",
    "os.mkdir(train_dogs_dir)\n",
    "\n",
    "validation_cats_dir = os.path.join(validation_dir,'cats')\n",
    "os.mkdir(validation_cats_dir)\n",
    "validation_dogs_dir = os.path.join(validation_dir,'dogs')\n",
    "os.mkdir(validation_dogs_dir)\n",
    "\n",
    "test_cats_dir = os.path.join(test_dir, 'cats')\n",
    "test_dogs_dir = os.path.join(test_dir, 'dogs')\n",
    "os.mkdir(test_cats_dir)\n",
    "os.mkdir(test_dogs_dir)\n",
    "\n",
    "\n",
    "fnames = ['cat.{}.jpg'.format(i) for i in range(1000)]\n",
    "for fname in fnames:\n",
    "  src = os.path.join(original_dataset_dir,fname)\n",
    "  dst = os.path.join(train_cats_dir, fname)\n",
    "  shutil.copyfile(src,dst)\n",
    "  \n",
    "fnames = ['dog.{}.jpg'.format(i) for i in range(1000)]\n",
    "for fname in fnames:\n",
    "  src = os.path.join(original_dataset_dir,fname)\n",
    "  dst = os.path.join(train_dogs_dir, fname)\n",
    "  shutil.copyfile(src,dst)\n",
    "  \n",
    "  \n",
    "\n",
    "fnames = ['cat.{}.jpg'.format(i) for i in range(1000,1500)]\n",
    "for fname in fnames:\n",
    "  src = os.path.join(original_dataset_dir,fname)\n",
    "  dst = os.path.join(validation_cats_dir, fname)\n",
    "  shutil.copyfile(src,dst)\n",
    "  \n",
    "fnames = ['dog.{}.jpg'.format(i) for i in range(1000,1500)]\n",
    "for fname in fnames:\n",
    "  src = os.path.join(original_dataset_dir,fname)\n",
    "  dst = os.path.join(validation_dogs_dir, fname)\n",
    "  shutil.copyfile(src,dst)\n",
    "  \n",
    "\n",
    "fnames = ['cat.{}.jpg'.format(i) for i in range(1500,2000)]\n",
    "for fname in fnames:\n",
    "  src = os.path.join(original_dataset_dir,fname)\n",
    "  dst = os.path.join(test_cats_dir, fname)\n",
    "  shutil.copyfile(src,dst)\n",
    "  \n",
    "fnames = ['dog.{}.jpg'.format(i) for i in range(1500,2000)]\n",
    "for fname in fnames:\n",
    "  src = os.path.join(original_dataset_dir,fname)\n",
    "  dst = os.path.join(test_dogs_dir, fname)\n",
    "  shutil.copyfile(src,dst)\n",
    "  \n",
    "  \n"
   ]
  },
  {
   "cell_type": "code",
   "execution_count": 0,
   "metadata": {
    "colab": {
     "base_uri": "https://localhost:8080/",
     "height": 35
    },
    "colab_type": "code",
    "executionInfo": {
     "elapsed": 668682,
     "status": "ok",
     "timestamp": 1564741679422,
     "user": {
      "displayName": "方明旺",
      "photoUrl": "https://lh4.googleusercontent.com/-mkhlHsh5fvw/AAAAAAAAAAI/AAAAAAAAAAA/uZC5ERYFZ4k/s64/photo.jpg",
      "userId": "06059548827349409826"
     },
     "user_tz": -480
    },
    "id": "5R4B5WojzJin",
    "outputId": "f4b51a1d-30ab-4f11-847f-aec10abed769"
   },
   "outputs": [
    {
     "data": {
      "text/plain": [
       "1000"
      ]
     },
     "execution_count": 12,
     "metadata": {
      "tags": []
     },
     "output_type": "execute_result"
    }
   ],
   "source": [
    "len(os.listdir(train_cats_dir))"
   ]
  },
  {
   "cell_type": "markdown",
   "metadata": {
    "colab_type": "text",
    "id": "CJe3mUhSX4fy"
   },
   "source": [
    "> **注意：**复制过的请执行这一段"
   ]
  },
  {
   "cell_type": "code",
   "execution_count": 0,
   "metadata": {
    "colab": {},
    "colab_type": "code",
    "id": "Sixz09JLPAbU"
   },
   "outputs": [],
   "source": [
    "base_dir = '/content/drive/My Drive/data/cats_and_dogs_small'\n",
    "train_dir = os.path.join(base_dir, 'train')\n",
    "validation_dir = os.path.join(base_dir, 'validation')\n",
    "test_dir = os.path.join(base_dir, 'test')"
   ]
  },
  {
   "cell_type": "markdown",
   "metadata": {
    "colab_type": "text",
    "id": "mEzK2HWY9o1B"
   },
   "source": [
    "####5-3-1特征提取\n",
    "　将VGG16 卷积基实例化"
   ]
  },
  {
   "cell_type": "code",
   "execution_count": 4,
   "metadata": {
    "colab": {
     "base_uri": "https://localhost:8080/",
     "height": 373
    },
    "colab_type": "code",
    "executionInfo": {
     "elapsed": 6427,
     "status": "ok",
     "timestamp": 1564889069414,
     "user": {
      "displayName": "方明旺",
      "photoUrl": "https://lh4.googleusercontent.com/-mkhlHsh5fvw/AAAAAAAAAAI/AAAAAAAAAAA/uZC5ERYFZ4k/s64/photo.jpg",
      "userId": "06059548827349409826"
     },
     "user_tz": -480
    },
    "id": "WkW9RPMr1QTL",
    "outputId": "b56a7825-5751-4f88-be87-cdd12f821f18"
   },
   "outputs": [
    {
     "name": "stderr",
     "output_type": "stream",
     "text": [
      "Using TensorFlow backend.\n",
      "WARNING: Logging before flag parsing goes to stderr.\n",
      "W0804 03:24:23.186734 140464955799424 deprecation_wrapper.py:119] From /usr/local/lib/python3.6/dist-packages/keras/backend/tensorflow_backend.py:74: The name tf.get_default_graph is deprecated. Please use tf.compat.v1.get_default_graph instead.\n",
      "\n",
      "W0804 03:24:23.222341 140464955799424 deprecation_wrapper.py:119] From /usr/local/lib/python3.6/dist-packages/keras/backend/tensorflow_backend.py:517: The name tf.placeholder is deprecated. Please use tf.compat.v1.placeholder instead.\n",
      "\n",
      "W0804 03:24:23.229075 140464955799424 deprecation_wrapper.py:119] From /usr/local/lib/python3.6/dist-packages/keras/backend/tensorflow_backend.py:4138: The name tf.random_uniform is deprecated. Please use tf.random.uniform instead.\n",
      "\n",
      "W0804 03:24:23.267606 140464955799424 deprecation_wrapper.py:119] From /usr/local/lib/python3.6/dist-packages/keras/backend/tensorflow_backend.py:3976: The name tf.nn.max_pool is deprecated. Please use tf.nn.max_pool2d instead.\n",
      "\n"
     ]
    },
    {
     "name": "stdout",
     "output_type": "stream",
     "text": [
      "Downloading data from https://github.com/fchollet/deep-learning-models/releases/download/v0.1/vgg16_weights_tf_dim_ordering_tf_kernels_notop.h5\n",
      "58892288/58889256 [==============================] - 1s 0us/step\n"
     ]
    },
    {
     "name": "stderr",
     "output_type": "stream",
     "text": [
      "W0804 03:24:24.710940 140464955799424 deprecation_wrapper.py:119] From /usr/local/lib/python3.6/dist-packages/keras/backend/tensorflow_backend.py:174: The name tf.get_default_session is deprecated. Please use tf.compat.v1.get_default_session instead.\n",
      "\n",
      "W0804 03:24:24.711921 140464955799424 deprecation_wrapper.py:119] From /usr/local/lib/python3.6/dist-packages/keras/backend/tensorflow_backend.py:181: The name tf.ConfigProto is deprecated. Please use tf.compat.v1.ConfigProto instead.\n",
      "\n"
     ]
    }
   ],
   "source": [
    "from keras.applications import VGG16\n",
    "\n",
    "conv_base = VGG16(weights='imagenet',\n",
    "                 include_top=False,\n",
    "                 input_shape=(150,150,3))"
   ]
  },
  {
   "cell_type": "markdown",
   "metadata": {
    "colab_type": "text",
    "id": "ZJbAEBzd_Oy9"
   },
   "source": [
    "查看下载到的模型"
   ]
  },
  {
   "cell_type": "code",
   "execution_count": 5,
   "metadata": {
    "colab": {
     "base_uri": "https://localhost:8080/",
     "height": 38
    },
    "colab_type": "code",
    "executionInfo": {
     "elapsed": 2253,
     "status": "ok",
     "timestamp": 1564889101496,
     "user": {
      "displayName": "方明旺",
      "photoUrl": "https://lh4.googleusercontent.com/-mkhlHsh5fvw/AAAAAAAAAAI/AAAAAAAAAAA/uZC5ERYFZ4k/s64/photo.jpg",
      "userId": "06059548827349409826"
     },
     "user_tz": -480
    },
    "id": "_iJ9D9LG-H4q",
    "outputId": "0d58c992-c68d-4bfa-9af9-f66632f5c942"
   },
   "outputs": [
    {
     "name": "stdout",
     "output_type": "stream",
     "text": [
      "vgg16_weights_tf_dim_ordering_tf_kernels_notop.h5\n"
     ]
    }
   ],
   "source": [
    "!ls ~/.keras/models"
   ]
  },
  {
   "cell_type": "markdown",
   "metadata": {
    "colab_type": "text",
    "id": "4l9Yd-9o--cw"
   },
   "source": [
    "这里向构造函数中传入了三个参数。\n",
    "- weights指定模型初始化的权重检查点。\n",
    "- include_top 指定模型最后是否包含密集连接分类器。默认情况下，这个密集连接分\n",
    "类器对应于ImageNet 的1000 个类别。因为我们打算使用自己的密集连接分类器（只有\n",
    "两个类别：cat 和dog），所以不需要包含它。\n",
    "- input_shape 是输入到网络中的图像张量的形状。这个参数完全是可选的，如果不传\n",
    "入这个参数，那么网络能够处理任意形状的输入。\n",
    "\n",
    "VGG16 卷积基的详细架构如下所示。它和你已经熟悉的简单卷积神经网络很相似。"
   ]
  },
  {
   "cell_type": "code",
   "execution_count": 6,
   "metadata": {
    "colab": {
     "base_uri": "https://localhost:8080/",
     "height": 982
    },
    "colab_type": "code",
    "executionInfo": {
     "elapsed": 702,
     "status": "ok",
     "timestamp": 1564889106920,
     "user": {
      "displayName": "方明旺",
      "photoUrl": "https://lh4.googleusercontent.com/-mkhlHsh5fvw/AAAAAAAAAAI/AAAAAAAAAAA/uZC5ERYFZ4k/s64/photo.jpg",
      "userId": "06059548827349409826"
     },
     "user_tz": -480
    },
    "id": "GQb9dwH8-XVI",
    "outputId": "0a4ba502-530e-4d09-92aa-1c8c0a012f50"
   },
   "outputs": [
    {
     "name": "stdout",
     "output_type": "stream",
     "text": [
      "_________________________________________________________________\n",
      "Layer (type)                 Output Shape              Param #   \n",
      "=================================================================\n",
      "input_1 (InputLayer)         (None, 150, 150, 3)       0         \n",
      "_________________________________________________________________\n",
      "block1_conv1 (Conv2D)        (None, 150, 150, 64)      1792      \n",
      "_________________________________________________________________\n",
      "block1_conv2 (Conv2D)        (None, 150, 150, 64)      36928     \n",
      "_________________________________________________________________\n",
      "block1_pool (MaxPooling2D)   (None, 75, 75, 64)        0         \n",
      "_________________________________________________________________\n",
      "block2_conv1 (Conv2D)        (None, 75, 75, 128)       73856     \n",
      "_________________________________________________________________\n",
      "block2_conv2 (Conv2D)        (None, 75, 75, 128)       147584    \n",
      "_________________________________________________________________\n",
      "block2_pool (MaxPooling2D)   (None, 37, 37, 128)       0         \n",
      "_________________________________________________________________\n",
      "block3_conv1 (Conv2D)        (None, 37, 37, 256)       295168    \n",
      "_________________________________________________________________\n",
      "block3_conv2 (Conv2D)        (None, 37, 37, 256)       590080    \n",
      "_________________________________________________________________\n",
      "block3_conv3 (Conv2D)        (None, 37, 37, 256)       590080    \n",
      "_________________________________________________________________\n",
      "block3_pool (MaxPooling2D)   (None, 18, 18, 256)       0         \n",
      "_________________________________________________________________\n",
      "block4_conv1 (Conv2D)        (None, 18, 18, 512)       1180160   \n",
      "_________________________________________________________________\n",
      "block4_conv2 (Conv2D)        (None, 18, 18, 512)       2359808   \n",
      "_________________________________________________________________\n",
      "block4_conv3 (Conv2D)        (None, 18, 18, 512)       2359808   \n",
      "_________________________________________________________________\n",
      "block4_pool (MaxPooling2D)   (None, 9, 9, 512)         0         \n",
      "_________________________________________________________________\n",
      "block5_conv1 (Conv2D)        (None, 9, 9, 512)         2359808   \n",
      "_________________________________________________________________\n",
      "block5_conv2 (Conv2D)        (None, 9, 9, 512)         2359808   \n",
      "_________________________________________________________________\n",
      "block5_conv3 (Conv2D)        (None, 9, 9, 512)         2359808   \n",
      "_________________________________________________________________\n",
      "block5_pool (MaxPooling2D)   (None, 4, 4, 512)         0         \n",
      "=================================================================\n",
      "Total params: 14,714,688\n",
      "Trainable params: 14,714,688\n",
      "Non-trainable params: 0\n",
      "_________________________________________________________________\n"
     ]
    }
   ],
   "source": [
    "conv_base.summary()"
   ]
  },
  {
   "cell_type": "markdown",
   "metadata": {
    "colab_type": "text",
    "id": "ZYGT1j5x_V0U"
   },
   "source": [
    "最后的特征图形状为(4, 4, 512)。我们将在这个特征上添加一个密集连接分类器。\n",
    "接下来，下一步有两种方法可供选择。\n",
    "- 在你的数据集上运行卷积基，将输出保存成硬盘中的Numpy 数组，然后用这个数据作\n",
    "为输入，输入到独立的密集连接分类器中（与本书第一部分介绍的分类器类似）。这种\n",
    "方法速度快，计算代价低，因为对于每个输入图像只需运行一次卷积基，而卷积基是目\n",
    "前流程中计算代价最高的。但出于同样的原因，这种方法不允许你使用数据增强。\n",
    "-在顶部添加 Dense 层来扩展已有模型（即 conv_base），并在输入数据上端到端地运行\n",
    "整个模型。这样你可以使用数据增强，因为每个输入图像进入模型时都会经过卷积基。\n",
    "但出于同样的原因，这种方法的计算代价比第一种要高很多。\n",
    "\n",
    "这两种方法我们都会介绍。首先来看第一种方法的代码：保存你的数据在conv_base 中的输出，然后将这些输出作为输入用于新模型。\n",
    "1.  不使用数据增强的快速特征提取\n",
    "\n",
    "首先，运行ImageDataGenerator 实例，将图像及其标签提取为Numpy 数组。我们需要\n",
    "调用conv_base 模型的predict 方法来从这些图像中提取特征。\n",
    "\n",
    ">使用预训练的卷积基提取特征"
   ]
  },
  {
   "cell_type": "code",
   "execution_count": 0,
   "metadata": {
    "colab": {},
    "colab_type": "code",
    "id": "r020ZIXi-c0-"
   },
   "outputs": [],
   "source": [
    "import numpy as np\n",
    "from keras.preprocessing.image import ImageDataGenerator\n"
   ]
  },
  {
   "cell_type": "code",
   "execution_count": 8,
   "metadata": {
    "colab": {
     "base_uri": "https://localhost:8080/",
     "height": 80
    },
    "colab_type": "code",
    "executionInfo": {
     "elapsed": 152804,
     "status": "ok",
     "timestamp": 1564890257459,
     "user": {
      "displayName": "方明旺",
      "photoUrl": "https://lh4.googleusercontent.com/-mkhlHsh5fvw/AAAAAAAAAAI/AAAAAAAAAAA/uZC5ERYFZ4k/s64/photo.jpg",
      "userId": "06059548827349409826"
     },
     "user_tz": -480
    },
    "id": "L4ul7g7aB6T0",
    "outputId": "99a2ecc4-bbe7-4d0c-c374-afd629eb3454"
   },
   "outputs": [
    {
     "name": "stdout",
     "output_type": "stream",
     "text": [
      "Found 2000 images belonging to 2 classes.\n",
      "Found 1000 images belonging to 2 classes.\n",
      "Found 1000 images belonging to 2 classes.\n"
     ]
    }
   ],
   "source": [
    "datagen = ImageDataGenerator(rescale=1./255)\n",
    "batch_size = 20\n",
    "\n",
    "def extract_features(directory, sample_count):\n",
    "  features = np.zeros(shape=(sample_count, 4, 4, 512))\n",
    "  labels = np.zeros(shape=(sample_count))\n",
    "  generator = datagen.flow_from_directory(directory,\n",
    "                                         target_size=(150,150),\n",
    "                                         batch_size=batch_size,\n",
    "                                         class_mode='binary')\n",
    "  i = 0\n",
    "  for inputs_batch, labels_batch in generator:\n",
    "    features_batch = conv_base.predict(inputs_batch)\n",
    "    features[i* batch_size : (i+1)* batch_size] = features_batch\n",
    "    labels[i* batch_size : (i+1) * batch_size] = labels_batch\n",
    "    i +=1\n",
    "    if i * batch_size >= sample_count:\n",
    "      break #注意，这些生成器在循环中不断生成数据，所以你必须在读取完所有图像后终止循环\n",
    "  return features,labels\n",
    "  \n",
    "train_features, train_labels = extract_features(train_dir,2000)\n",
    "validation_features, validation_labels = extract_features(validation_dir,1000)\n",
    "test_features, test_labels = extract_features(test_dir,1000)\n"
   ]
  },
  {
   "cell_type": "markdown",
   "metadata": {
    "colab_type": "text",
    "id": "h1owKZl1Kq1R"
   },
   "source": [
    "目前，提取的特征形状为(samples, 4, 4, 512)。我们要将其输入到密集连接分类器中，\n",
    "所以首先必须将其形状展平为(samples, 8192)。"
   ]
  },
  {
   "cell_type": "code",
   "execution_count": 0,
   "metadata": {
    "colab": {},
    "colab_type": "code",
    "id": "7czEFSFrGrvt"
   },
   "outputs": [],
   "source": [
    "train_features = np.reshape(train_features,(2000, 4* 4* 512))\n",
    "validation_features = np.reshape(validation_features,(1000, 4* 4* 512))\n",
    "test_features = np.reshape(test_features,(1000, 4* 4* 512))\n"
   ]
  },
  {
   "cell_type": "code",
   "execution_count": 10,
   "metadata": {
    "colab": {
     "base_uri": "https://localhost:8080/",
     "height": 38
    },
    "colab_type": "code",
    "executionInfo": {
     "elapsed": 670,
     "status": "ok",
     "timestamp": 1564890960263,
     "user": {
      "displayName": "方明旺",
      "photoUrl": "https://lh4.googleusercontent.com/-mkhlHsh5fvw/AAAAAAAAAAI/AAAAAAAAAAA/uZC5ERYFZ4k/s64/photo.jpg",
      "userId": "06059548827349409826"
     },
     "user_tz": -480
    },
    "id": "hS_41b-5LXyL",
    "outputId": "3470ec33-e537-437f-f9a0-9e91a375bc06"
   },
   "outputs": [
    {
     "data": {
      "text/plain": [
       "((2000, 8192), (1000, 8192), (1000, 8192))"
      ]
     },
     "execution_count": 10,
     "metadata": {
      "tags": []
     },
     "output_type": "execute_result"
    }
   ],
   "source": [
    "train_features.shape,validation_features.shape,test_features.shape"
   ]
  },
  {
   "cell_type": "markdown",
   "metadata": {
    "colab_type": "text",
    "id": "Lg8bMvq_MIIk"
   },
   "source": [
    "现在你可以定义你的密集连接分类器（注意要使用dropout 正则化），并在刚刚保存的数据和标签上训练这个分类器。"
   ]
  },
  {
   "cell_type": "code",
   "execution_count": 0,
   "metadata": {
    "colab": {},
    "colab_type": "code",
    "id": "_PnCGkiuKsFz"
   },
   "outputs": [],
   "source": [
    "from keras import models\n",
    "from keras import layers\n",
    "from keras import optimizers"
   ]
  },
  {
   "cell_type": "code",
   "execution_count": 12,
   "metadata": {
    "colab": {
     "base_uri": "https://localhost:8080/",
     "height": 1000
    },
    "colab_type": "code",
    "executionInfo": {
     "elapsed": 18790,
     "status": "ok",
     "timestamp": 1564890983002,
     "user": {
      "displayName": "方明旺",
      "photoUrl": "https://lh4.googleusercontent.com/-mkhlHsh5fvw/AAAAAAAAAAI/AAAAAAAAAAA/uZC5ERYFZ4k/s64/photo.jpg",
      "userId": "06059548827349409826"
     },
     "user_tz": -480
    },
    "id": "oy34vXFUMekh",
    "outputId": "503b0332-998f-426c-c66e-0efeda4de303"
   },
   "outputs": [
    {
     "name": "stderr",
     "output_type": "stream",
     "text": [
      "W0804 03:55:59.448869 140464955799424 deprecation.py:506] From /usr/local/lib/python3.6/dist-packages/keras/backend/tensorflow_backend.py:3445: calling dropout (from tensorflow.python.ops.nn_ops) with keep_prob is deprecated and will be removed in a future version.\n",
      "Instructions for updating:\n",
      "Please use `rate` instead of `keep_prob`. Rate should be set to `rate = 1 - keep_prob`.\n",
      "W0804 03:55:59.614109 140464955799424 deprecation_wrapper.py:119] From /usr/local/lib/python3.6/dist-packages/keras/optimizers.py:790: The name tf.train.Optimizer is deprecated. Please use tf.compat.v1.train.Optimizer instead.\n",
      "\n",
      "W0804 03:55:59.624004 140464955799424 deprecation.py:323] From /usr/local/lib/python3.6/dist-packages/tensorflow/python/ops/nn_impl.py:180: add_dispatch_support.<locals>.wrapper (from tensorflow.python.ops.array_ops) is deprecated and will be removed in a future version.\n",
      "Instructions for updating:\n",
      "Use tf.where in 2.0, which has the same broadcast rule as np.where\n"
     ]
    },
    {
     "name": "stdout",
     "output_type": "stream",
     "text": [
      "Train on 2000 samples, validate on 1000 samples\n",
      "Epoch 1/30\n",
      "2000/2000 [==============================] - 2s 807us/step - loss: 0.6393 - acc: 0.6440 - val_loss: 0.4393 - val_acc: 0.8460\n",
      "Epoch 2/30\n",
      "2000/2000 [==============================] - 1s 289us/step - loss: 0.4326 - acc: 0.8000 - val_loss: 0.3599 - val_acc: 0.8680\n",
      "Epoch 3/30\n",
      "2000/2000 [==============================] - 1s 281us/step - loss: 0.3606 - acc: 0.8520 - val_loss: 0.3267 - val_acc: 0.8730\n",
      "Epoch 4/30\n",
      "2000/2000 [==============================] - 1s 278us/step - loss: 0.3133 - acc: 0.8750 - val_loss: 0.2978 - val_acc: 0.8830\n",
      "Epoch 5/30\n",
      "2000/2000 [==============================] - 1s 293us/step - loss: 0.2867 - acc: 0.8895 - val_loss: 0.2823 - val_acc: 0.8890\n",
      "Epoch 6/30\n",
      "2000/2000 [==============================] - 1s 274us/step - loss: 0.2642 - acc: 0.8935 - val_loss: 0.2712 - val_acc: 0.8930\n",
      "Epoch 7/30\n",
      "2000/2000 [==============================] - 1s 276us/step - loss: 0.2507 - acc: 0.9050 - val_loss: 0.2623 - val_acc: 0.8970\n",
      "Epoch 8/30\n",
      "2000/2000 [==============================] - 1s 268us/step - loss: 0.2235 - acc: 0.9115 - val_loss: 0.2572 - val_acc: 0.9050\n",
      "Epoch 9/30\n",
      "2000/2000 [==============================] - 1s 280us/step - loss: 0.2196 - acc: 0.9170 - val_loss: 0.2525 - val_acc: 0.8970\n",
      "Epoch 10/30\n",
      "2000/2000 [==============================] - 1s 273us/step - loss: 0.2118 - acc: 0.9185 - val_loss: 0.2469 - val_acc: 0.9000\n",
      "Epoch 11/30\n",
      "2000/2000 [==============================] - 1s 274us/step - loss: 0.1986 - acc: 0.9260 - val_loss: 0.2431 - val_acc: 0.9040\n",
      "Epoch 12/30\n",
      "2000/2000 [==============================] - 1s 279us/step - loss: 0.1831 - acc: 0.9360 - val_loss: 0.2406 - val_acc: 0.9070\n",
      "Epoch 13/30\n",
      "2000/2000 [==============================] - 1s 274us/step - loss: 0.1838 - acc: 0.9340 - val_loss: 0.2406 - val_acc: 0.9080\n",
      "Epoch 14/30\n",
      "2000/2000 [==============================] - 1s 286us/step - loss: 0.1700 - acc: 0.9390 - val_loss: 0.2454 - val_acc: 0.8980\n",
      "Epoch 15/30\n",
      "2000/2000 [==============================] - 1s 281us/step - loss: 0.1622 - acc: 0.9380 - val_loss: 0.2467 - val_acc: 0.8960\n",
      "Epoch 16/30\n",
      "2000/2000 [==============================] - 1s 284us/step - loss: 0.1559 - acc: 0.9475 - val_loss: 0.2364 - val_acc: 0.9040\n",
      "Epoch 17/30\n",
      "2000/2000 [==============================] - 1s 286us/step - loss: 0.1473 - acc: 0.9480 - val_loss: 0.2393 - val_acc: 0.9010\n",
      "Epoch 18/30\n",
      "2000/2000 [==============================] - 1s 277us/step - loss: 0.1433 - acc: 0.9515 - val_loss: 0.2457 - val_acc: 0.9020\n",
      "Epoch 19/30\n",
      "2000/2000 [==============================] - 1s 275us/step - loss: 0.1407 - acc: 0.9510 - val_loss: 0.2367 - val_acc: 0.9030\n",
      "Epoch 20/30\n",
      "2000/2000 [==============================] - 1s 277us/step - loss: 0.1341 - acc: 0.9565 - val_loss: 0.2323 - val_acc: 0.9080\n",
      "Epoch 21/30\n",
      "2000/2000 [==============================] - 1s 270us/step - loss: 0.1287 - acc: 0.9595 - val_loss: 0.2326 - val_acc: 0.9090\n",
      "Epoch 22/30\n",
      "2000/2000 [==============================] - 1s 277us/step - loss: 0.1244 - acc: 0.9580 - val_loss: 0.2325 - val_acc: 0.9090\n",
      "Epoch 23/30\n",
      "2000/2000 [==============================] - 1s 276us/step - loss: 0.1179 - acc: 0.9605 - val_loss: 0.2401 - val_acc: 0.9040\n",
      "Epoch 24/30\n",
      "2000/2000 [==============================] - 1s 280us/step - loss: 0.1117 - acc: 0.9645 - val_loss: 0.2325 - val_acc: 0.9100\n",
      "Epoch 25/30\n",
      "2000/2000 [==============================] - 1s 275us/step - loss: 0.1091 - acc: 0.9660 - val_loss: 0.2353 - val_acc: 0.9070\n",
      "Epoch 26/30\n",
      "2000/2000 [==============================] - 1s 277us/step - loss: 0.1054 - acc: 0.9660 - val_loss: 0.2341 - val_acc: 0.9060\n",
      "Epoch 27/30\n",
      "2000/2000 [==============================] - 1s 279us/step - loss: 0.0948 - acc: 0.9710 - val_loss: 0.2356 - val_acc: 0.9040\n",
      "Epoch 28/30\n",
      "2000/2000 [==============================] - 1s 272us/step - loss: 0.0973 - acc: 0.9685 - val_loss: 0.2378 - val_acc: 0.9020\n",
      "Epoch 29/30\n",
      "2000/2000 [==============================] - 1s 280us/step - loss: 0.0924 - acc: 0.9750 - val_loss: 0.2358 - val_acc: 0.9070\n",
      "Epoch 30/30\n",
      "2000/2000 [==============================] - 1s 274us/step - loss: 0.0891 - acc: 0.9710 - val_loss: 0.2355 - val_acc: 0.9070\n"
     ]
    }
   ],
   "source": [
    "model = models.Sequential()\n",
    "model.add(layers.Dense(256,activation='relu',input_dim= 4* 4* 512))\n",
    "model.add(layers.Dropout(0.5))\n",
    "model.add(layers.Dense(1,activation='sigmoid'))\n",
    "\n",
    "model.compile(optimizer=optimizers.RMSprop(lr=2e-5),\n",
    "             loss='binary_crossentropy',\n",
    "             metrics=['acc'])\n",
    "\n",
    "history = model.fit(train_features,train_labels,\n",
    "                   epochs=30,\n",
    "                   batch_size=20,\n",
    "                   validation_data=(validation_features,validation_labels))"
   ]
  },
  {
   "cell_type": "code",
   "execution_count": 13,
   "metadata": {
    "colab": {
     "base_uri": "https://localhost:8080/",
     "height": 545
    },
    "colab_type": "code",
    "executionInfo": {
     "elapsed": 1098,
     "status": "ok",
     "timestamp": 1564891540373,
     "user": {
      "displayName": "方明旺",
      "photoUrl": "https://lh4.googleusercontent.com/-mkhlHsh5fvw/AAAAAAAAAAI/AAAAAAAAAAA/uZC5ERYFZ4k/s64/photo.jpg",
      "userId": "06059548827349409826"
     },
     "user_tz": -480
    },
    "id": "MNj6pYcFNwMx",
    "outputId": "78ad2392-6ba2-4e71-e04f-bb7bb891b414"
   },
   "outputs": [
    {
     "data": {
      "image/png": "[encoded data removed]",
      "text/plain": [
       "<Figure size 432x288 with 1 Axes>"
      ]
     },
     "metadata": {
      "tags": []
     },
     "output_type": "display_data"
    },
    {
     "data": {
      "image/png": "[encoded data removed]",
      "text/plain": [
       "<Figure size 432x288 with 1 Axes>"
      ]
     },
     "metadata": {
      "tags": []
     },
     "output_type": "display_data"
    }
   ],
   "source": [
    "import matplotlib.pyplot as plt\n",
    "acc = history.history['acc']\n",
    "val_acc = history.history['val_acc']\n",
    "loss = history.history['loss']\n",
    "val_loss = history.history['val_loss']\n",
    "epochs = range(1, len(acc) + 1)\n",
    "plt.plot(epochs, acc, 'bo', label='Training acc')\n",
    "plt.plot(epochs, val_acc, 'b', label='Validation acc')\n",
    "plt.title('Training and validation accuracy')\n",
    "plt.legend()\n",
    "plt.figure()\n",
    "plt.plot(epochs, loss, 'bo', label='Training loss')\n",
    "plt.plot(epochs, val_loss, 'b', label='Validation loss')\n",
    "plt.title('Training and validation loss')\n",
    "plt.legend()\n",
    "plt.show()"
   ]
  },
  {
   "cell_type": "markdown",
   "metadata": {
    "colab_type": "text",
    "id": "O2UOl_uVTxdz"
   },
   "source": [
    "#### 2. 使用数据增强的特征提取\n",
    "\n",
    ">注意 本方法计算代价很高，只在有GPU 的情况下才能尝试运行。它在CPU 上是绝对难以运\n",
    "行的。如果你无法在GPU 上运行代码，那么就采用第一种方法。"
   ]
  },
  {
   "cell_type": "code",
   "execution_count": 0,
   "metadata": {
    "colab": {},
    "colab_type": "code",
    "id": "bNMb0_71TsDS"
   },
   "outputs": [],
   "source": [
    "model2 = models.Sequential()\n",
    "model2.add(conv_base)\n",
    "model2.add(layers.Flatten())\n",
    "model2.add(layers.Dense(256, activation='relu'))\n",
    "model2.add(layers.Dense(1, activation='sigmoid'))"
   ]
  },
  {
   "cell_type": "code",
   "execution_count": 15,
   "metadata": {
    "colab": {
     "base_uri": "https://localhost:8080/",
     "height": 352
    },
    "colab_type": "code",
    "executionInfo": {
     "elapsed": 696,
     "status": "ok",
     "timestamp": 1564891554173,
     "user": {
      "displayName": "方明旺",
      "photoUrl": "https://lh4.googleusercontent.com/-mkhlHsh5fvw/AAAAAAAAAAI/AAAAAAAAAAA/uZC5ERYFZ4k/s64/photo.jpg",
      "userId": "06059548827349409826"
     },
     "user_tz": -480
    },
    "id": "r_QvWhp6UA0n",
    "outputId": "05aca9cc-1873-408c-bfd0-e50ff237b1d2"
   },
   "outputs": [
    {
     "name": "stdout",
     "output_type": "stream",
     "text": [
      "_________________________________________________________________\n",
      "Layer (type)                 Output Shape              Param #   \n",
      "=================================================================\n",
      "vgg16 (Model)                (None, 4, 4, 512)         14714688  \n",
      "_________________________________________________________________\n",
      "flatten_1 (Flatten)          (None, 8192)              0         \n",
      "_________________________________________________________________\n",
      "dense_3 (Dense)              (None, 256)               2097408   \n",
      "_________________________________________________________________\n",
      "dense_4 (Dense)              (None, 1)                 257       \n",
      "=================================================================\n",
      "Total params: 16,812,353\n",
      "Trainable params: 16,812,353\n",
      "Non-trainable params: 0\n",
      "_________________________________________________________________\n"
     ]
    }
   ],
   "source": [
    "model2.summary()"
   ]
  },
  {
   "cell_type": "markdown",
   "metadata": {
    "colab_type": "text",
    "id": "l8uTpqfPUUvs"
   },
   "source": [
    "如你所见，VGG16 的卷积基有14 714 688 个参数，非常多。在其上添加的分类器有200 万个参数。\n",
    "\n",
    "在编译和训练模型之前，一定要“冻结”卷积基。冻结（freeze）一个或多个层是指在训练过程中保持其权重不变。如果不这么做，那么卷积基之前学到的表示将会在训练过程中被修改。因为其上添加的Dense 层是随机初始化的，所以非常大的权重更新将会在网络中传播，对之前学到的表示造成很大破坏。\n",
    "\n",
    "在Keras 中，冻结网络的方法是将其trainable 属性设为False。"
   ]
  },
  {
   "cell_type": "code",
   "execution_count": 16,
   "metadata": {
    "colab": {
     "base_uri": "https://localhost:8080/",
     "height": 58
    },
    "colab_type": "code",
    "executionInfo": {
     "elapsed": 688,
     "status": "ok",
     "timestamp": 1564891557025,
     "user": {
      "displayName": "方明旺",
      "photoUrl": "https://lh4.googleusercontent.com/-mkhlHsh5fvw/AAAAAAAAAAI/AAAAAAAAAAA/uZC5ERYFZ4k/s64/photo.jpg",
      "userId": "06059548827349409826"
     },
     "user_tz": -480
    },
    "id": "vswEwSvTUESr",
    "outputId": "ec89efbd-f6a1-4856-dfd2-19933e965321"
   },
   "outputs": [
    {
     "name": "stdout",
     "output_type": "stream",
     "text": [
      "This is the number of trainable weights before freezing the conv base: 30\n"
     ]
    }
   ],
   "source": [
    "print('This is the number of trainable weights before freezing the conv base:', len(model2.trainable_weights))"
   ]
  },
  {
   "cell_type": "code",
   "execution_count": 0,
   "metadata": {
    "colab": {},
    "colab_type": "code",
    "id": "olLSaOdKUkR8"
   },
   "outputs": [],
   "source": [
    "conv_base.trainable = False"
   ]
  },
  {
   "cell_type": "code",
   "execution_count": 18,
   "metadata": {
    "colab": {
     "base_uri": "https://localhost:8080/",
     "height": 58
    },
    "colab_type": "code",
    "executionInfo": {
     "elapsed": 389,
     "status": "ok",
     "timestamp": 1564891559540,
     "user": {
      "displayName": "方明旺",
      "photoUrl": "https://lh4.googleusercontent.com/-mkhlHsh5fvw/AAAAAAAAAAI/AAAAAAAAAAA/uZC5ERYFZ4k/s64/photo.jpg",
      "userId": "06059548827349409826"
     },
     "user_tz": -480
    },
    "id": "fcZVRQ04UrLG",
    "outputId": "9e52ea44-0187-433c-a069-b006b55bfcb1"
   },
   "outputs": [
    {
     "name": "stdout",
     "output_type": "stream",
     "text": [
      "This is the number of trainable weights after freezing the conv base: 4\n"
     ]
    }
   ],
   "source": [
    "print('This is the number of trainable weights after freezing the conv base:', len(model2.trainable_weights))"
   ]
  },
  {
   "cell_type": "markdown",
   "metadata": {
    "colab_type": "text",
    "id": "ltzJambXU5qD"
   },
   "source": [
    "如此设置之后，只有添加的两个Dense 层的权重才会被训练。总共有4 个权重张量，每层\n",
    "2 个（主权重矩阵和偏置向量）。注意，为了让这些修改生效，你必须先编译模型。如果在编译\n",
    "之后修改了权重的trainable 属性，那么应该重新编译模型，否则这些修改将被忽略。\n",
    "\n",
    "现在你可以开始训练模型了，使用和前一个例子相同的数据增强设置。"
   ]
  },
  {
   "cell_type": "code",
   "execution_count": 19,
   "metadata": {
    "colab": {
     "base_uri": "https://localhost:8080/",
     "height": 1000
    },
    "colab_type": "code",
    "executionInfo": {
     "elapsed": 575066,
     "status": "ok",
     "timestamp": 1564892204310,
     "user": {
      "displayName": "方明旺",
      "photoUrl": "https://lh4.googleusercontent.com/-mkhlHsh5fvw/AAAAAAAAAAI/AAAAAAAAAAA/uZC5ERYFZ4k/s64/photo.jpg",
      "userId": "06059548827349409826"
     },
     "user_tz": -480
    },
    "id": "YWQOprFJUxFi",
    "outputId": "89d1c549-254d-4f0b-ef36-6edb26d6c402"
   },
   "outputs": [
    {
     "name": "stdout",
     "output_type": "stream",
     "text": [
      "Found 2000 images belonging to 2 classes.\n",
      "Found 1000 images belonging to 2 classes.\n",
      "Epoch 1/30\n",
      "100/100 [==============================] - 23s 229ms/step - loss: 0.5932 - acc: 0.6890 - val_loss: 0.4477 - val_acc: 0.8320\n",
      "Epoch 2/30\n",
      "100/100 [==============================] - 21s 211ms/step - loss: 0.4684 - acc: 0.7860 - val_loss: 0.3632 - val_acc: 0.8730\n",
      "Epoch 3/30\n",
      "100/100 [==============================] - 21s 211ms/step - loss: 0.4357 - acc: 0.7985 - val_loss: 0.3265 - val_acc: 0.8810\n",
      "Epoch 4/30\n",
      "100/100 [==============================] - 22s 218ms/step - loss: 0.3981 - acc: 0.8320 - val_loss: 0.3024 - val_acc: 0.8840\n",
      "Epoch 5/30\n",
      "100/100 [==============================] - 21s 213ms/step - loss: 0.3842 - acc: 0.8315 - val_loss: 0.2896 - val_acc: 0.8890\n",
      "Epoch 6/30\n",
      "100/100 [==============================] - 22s 217ms/step - loss: 0.3628 - acc: 0.8465 - val_loss: 0.2800 - val_acc: 0.8860\n",
      "Epoch 7/30\n",
      "100/100 [==============================] - 22s 219ms/step - loss: 0.3624 - acc: 0.8310 - val_loss: 0.2738 - val_acc: 0.8900\n",
      "Epoch 8/30\n",
      "100/100 [==============================] - 22s 217ms/step - loss: 0.3567 - acc: 0.8465 - val_loss: 0.2648 - val_acc: 0.8900\n",
      "Epoch 9/30\n",
      "100/100 [==============================] - 21s 213ms/step - loss: 0.3356 - acc: 0.8495 - val_loss: 0.2623 - val_acc: 0.8880\n",
      "Epoch 10/30\n",
      "100/100 [==============================] - 22s 216ms/step - loss: 0.3269 - acc: 0.8600 - val_loss: 0.2593 - val_acc: 0.8960\n",
      "Epoch 11/30\n",
      "100/100 [==============================] - 21s 210ms/step - loss: 0.3345 - acc: 0.8590 - val_loss: 0.2558 - val_acc: 0.8980\n",
      "Epoch 12/30\n",
      "100/100 [==============================] - 22s 217ms/step - loss: 0.3333 - acc: 0.8570 - val_loss: 0.2536 - val_acc: 0.8910\n",
      "Epoch 13/30\n",
      "100/100 [==============================] - 22s 218ms/step - loss: 0.3230 - acc: 0.8600 - val_loss: 0.2512 - val_acc: 0.9010\n",
      "Epoch 14/30\n",
      "100/100 [==============================] - 22s 219ms/step - loss: 0.3100 - acc: 0.8725 - val_loss: 0.2459 - val_acc: 0.9010\n",
      "Epoch 15/30\n",
      "100/100 [==============================] - 22s 217ms/step - loss: 0.3244 - acc: 0.8630 - val_loss: 0.2440 - val_acc: 0.8940\n",
      "Epoch 16/30\n",
      "100/100 [==============================] - 22s 216ms/step - loss: 0.3129 - acc: 0.8635 - val_loss: 0.2484 - val_acc: 0.9010\n",
      "Epoch 17/30\n",
      "100/100 [==============================] - 21s 213ms/step - loss: 0.3012 - acc: 0.8600 - val_loss: 0.2441 - val_acc: 0.9000\n",
      "Epoch 18/30\n",
      "100/100 [==============================] - 21s 211ms/step - loss: 0.3131 - acc: 0.8570 - val_loss: 0.2420 - val_acc: 0.9010\n",
      "Epoch 19/30\n",
      "100/100 [==============================] - 21s 210ms/step - loss: 0.3059 - acc: 0.8770 - val_loss: 0.2491 - val_acc: 0.8990\n",
      "Epoch 20/30\n",
      "100/100 [==============================] - 21s 210ms/step - loss: 0.2995 - acc: 0.8720 - val_loss: 0.2391 - val_acc: 0.9030\n",
      "Epoch 21/30\n",
      "100/100 [==============================] - 21s 208ms/step - loss: 0.2942 - acc: 0.8695 - val_loss: 0.2494 - val_acc: 0.8980\n",
      "Epoch 22/30\n",
      "100/100 [==============================] - 21s 210ms/step - loss: 0.3081 - acc: 0.8635 - val_loss: 0.2431 - val_acc: 0.8990\n",
      "Epoch 23/30\n",
      "100/100 [==============================] - 21s 211ms/step - loss: 0.2868 - acc: 0.8770 - val_loss: 0.2389 - val_acc: 0.8970\n",
      "Epoch 24/30\n",
      "100/100 [==============================] - 21s 209ms/step - loss: 0.2831 - acc: 0.8825 - val_loss: 0.2369 - val_acc: 0.9010\n",
      "Epoch 25/30\n",
      "100/100 [==============================] - 21s 212ms/step - loss: 0.3173 - acc: 0.8620 - val_loss: 0.2354 - val_acc: 0.9040\n",
      "Epoch 26/30\n",
      "100/100 [==============================] - 21s 211ms/step - loss: 0.2745 - acc: 0.8945 - val_loss: 0.2356 - val_acc: 0.9040\n",
      "Epoch 27/30\n",
      "100/100 [==============================] - 22s 215ms/step - loss: 0.2739 - acc: 0.8835 - val_loss: 0.2409 - val_acc: 0.9060\n",
      "Epoch 28/30\n",
      "100/100 [==============================] - 20s 203ms/step - loss: 0.2876 - acc: 0.8790 - val_loss: 0.2370 - val_acc: 0.9020\n",
      "Epoch 29/30\n",
      "100/100 [==============================] - 21s 207ms/step - loss: 0.2852 - acc: 0.8840 - val_loss: 0.2380 - val_acc: 0.9040\n",
      "Epoch 30/30\n",
      "100/100 [==============================] - 21s 206ms/step - loss: 0.2800 - acc: 0.8815 - val_loss: 0.2426 - val_acc: 0.9050\n"
     ]
    }
   ],
   "source": [
    "train_datagen = ImageDataGenerator(rescale=1./255,\n",
    "                                   rotation_range=40,\n",
    "                                   width_shift_range=0.2,\n",
    "                                   height_shift_range=0.2,\n",
    "                                   shear_range=0.2,\n",
    "                                   zoom_range=0.2,\n",
    "                                   horizontal_flip=True,\n",
    "                                   fill_mode='nearest')\n",
    "test_datagen = ImageDataGenerator(rescale=1./255)\n",
    "train_generator = train_datagen.flow_from_directory(train_dir,\n",
    "                                                    target_size=(150, 150),\n",
    "                                                    batch_size=20,class_mode='binary')\n",
    "validation_generator = test_datagen.flow_from_directory(validation_dir,\n",
    "                                                        target_size=(150, 150),\n",
    "                                                        batch_size=20,class_mode='binary')\n",
    "model2.compile(loss='binary_crossentropy',\n",
    "              optimizer=optimizers.RMSprop(lr=2e-5),\n",
    "              metrics=['acc'])\n",
    "history = model2.fit_generator(train_generator,\n",
    "                               steps_per_epoch=100,\n",
    "                               epochs=30,\n",
    "                               validation_data=validation_generator,\n",
    "                               validation_steps=50)\n"
   ]
  },
  {
   "cell_type": "code",
   "execution_count": 21,
   "metadata": {
    "colab": {
     "base_uri": "https://localhost:8080/",
     "height": 545
    },
    "colab_type": "code",
    "executionInfo": {
     "elapsed": 1625,
     "status": "ok",
     "timestamp": 1564899611680,
     "user": {
      "displayName": "方明旺",
      "photoUrl": "https://lh4.googleusercontent.com/-mkhlHsh5fvw/AAAAAAAAAAI/AAAAAAAAAAA/uZC5ERYFZ4k/s64/photo.jpg",
      "userId": "06059548827349409826"
     },
     "user_tz": -480
    },
    "id": "S6uYrd-RV6pR",
    "outputId": "a906937c-ba88-4df8-fd7f-8d3893f18821"
   },
   "outputs": [
    {
     "data": {
      "image/png": "[encoded data removed]",
      "text/plain": [
       "<Figure size 432x288 with 1 Axes>"
      ]
     },
     "metadata": {
      "tags": []
     },
     "output_type": "display_data"
    },
    {
     "data": {
      "image/png": "[encoded data removed]",
      "text/plain": [
       "<Figure size 432x288 with 1 Axes>"
      ]
     },
     "metadata": {
      "tags": []
     },
     "output_type": "display_data"
    }
   ],
   "source": [
    "\n",
    "import matplotlib.pyplot as plt\n",
    "acc = history.history['acc']\n",
    "val_acc = history.history['val_acc']\n",
    "loss = history.history['loss']\n",
    "val_loss = history.history['val_loss']\n",
    "epochs = range(1, len(acc) + 1)\n",
    "plt.plot(epochs, acc, 'bo', label='Training acc')\n",
    "plt.plot(epochs, val_acc, 'b', label='Validation acc')\n",
    "plt.title('Training and validation accuracy')\n",
    "plt.legend()\n",
    "plt.figure()\n",
    "plt.plot(epochs, loss, 'bo', label='Training loss')\n",
    "plt.plot(epochs, val_loss, 'b', label='Validation loss')\n",
    "plt.title('Training and validation loss')\n",
    "plt.legend()\n",
    "plt.show()"
   ]
  },
  {
   "cell_type": "markdown",
   "metadata": {
    "colab_type": "text",
    "id": "uSKWPQKJaR8X"
   },
   "source": [
    "# 5.3.2　微调模型\n",
    "\n",
    "冻结直到某一层的所有"
   ]
  },
  {
   "cell_type": "code",
   "execution_count": 28,
   "metadata": {
    "colab": {
     "base_uri": "https://localhost:8080/",
     "height": 982
    },
    "colab_type": "code",
    "executionInfo": {
     "elapsed": 681,
     "status": "ok",
     "timestamp": 1564902538728,
     "user": {
      "displayName": "方明旺",
      "photoUrl": "https://lh4.googleusercontent.com/-mkhlHsh5fvw/AAAAAAAAAAI/AAAAAAAAAAA/uZC5ERYFZ4k/s64/photo.jpg",
      "userId": "06059548827349409826"
     },
     "user_tz": -480
    },
    "id": "_2alxK2cdYDo",
    "outputId": "4965aacc-c96c-4e9c-d3aa-29a5cf24a865"
   },
   "outputs": [
    {
     "name": "stdout",
     "output_type": "stream",
     "text": [
      "_________________________________________________________________\n",
      "Layer (type)                 Output Shape              Param #   \n",
      "=================================================================\n",
      "input_1 (InputLayer)         (None, 150, 150, 3)       0         \n",
      "_________________________________________________________________\n",
      "block1_conv1 (Conv2D)        (None, 150, 150, 64)      1792      \n",
      "_________________________________________________________________\n",
      "block1_conv2 (Conv2D)        (None, 150, 150, 64)      36928     \n",
      "_________________________________________________________________\n",
      "block1_pool (MaxPooling2D)   (None, 75, 75, 64)        0         \n",
      "_________________________________________________________________\n",
      "block2_conv1 (Conv2D)        (None, 75, 75, 128)       73856     \n",
      "_________________________________________________________________\n",
      "block2_conv2 (Conv2D)        (None, 75, 75, 128)       147584    \n",
      "_________________________________________________________________\n",
      "block2_pool (MaxPooling2D)   (None, 37, 37, 128)       0         \n",
      "_________________________________________________________________\n",
      "block3_conv1 (Conv2D)        (None, 37, 37, 256)       295168    \n",
      "_________________________________________________________________\n",
      "block3_conv2 (Conv2D)        (None, 37, 37, 256)       590080    \n",
      "_________________________________________________________________\n",
      "block3_conv3 (Conv2D)        (None, 37, 37, 256)       590080    \n",
      "_________________________________________________________________\n",
      "block3_pool (MaxPooling2D)   (None, 18, 18, 256)       0         \n",
      "_________________________________________________________________\n",
      "block4_conv1 (Conv2D)        (None, 18, 18, 512)       1180160   \n",
      "_________________________________________________________________\n",
      "block4_conv2 (Conv2D)        (None, 18, 18, 512)       2359808   \n",
      "_________________________________________________________________\n",
      "block4_conv3 (Conv2D)        (None, 18, 18, 512)       2359808   \n",
      "_________________________________________________________________\n",
      "block4_pool (MaxPooling2D)   (None, 9, 9, 512)         0         \n",
      "_________________________________________________________________\n",
      "block5_conv1 (Conv2D)        (None, 9, 9, 512)         2359808   \n",
      "_________________________________________________________________\n",
      "block5_conv2 (Conv2D)        (None, 9, 9, 512)         2359808   \n",
      "_________________________________________________________________\n",
      "block5_conv3 (Conv2D)        (None, 9, 9, 512)         2359808   \n",
      "_________________________________________________________________\n",
      "block5_pool (MaxPooling2D)   (None, 4, 4, 512)         0         \n",
      "=================================================================\n",
      "Total params: 14,714,688\n",
      "Trainable params: 0\n",
      "Non-trainable params: 14,714,688\n",
      "_________________________________________________________________\n"
     ]
    }
   ],
   "source": [
    "conv_base.summary()"
   ]
  },
  {
   "cell_type": "code",
   "execution_count": 0,
   "metadata": {
    "colab": {},
    "colab_type": "code",
    "id": "cNLpvjTBZ3IY"
   },
   "outputs": [],
   "source": [
    "conv_base.trainable = True\n",
    "\n",
    "set_trainable = False\n",
    "for layer in conv_base.layers:\n",
    "  if layer.name == 'block5_conv1':\n",
    "    set_trainable = True\n",
    "  if set_trainable:\n",
    "    layer.trainable = True\n",
    "  else:\n",
    "    layer.trainable = False"
   ]
  },
  {
   "cell_type": "markdown",
   "metadata": {
    "colab_type": "text",
    "id": "CybhxxPSd7OW"
   },
   "source": [
    "现在你可以开始微调网络。我们将使用学习率非常小的 RMSProp 优化器来实现。之所以让 学习率很小，是因为对于微调的三层表示，我们希望其变化范围不要太大。太大的权重更新可 能会破坏这些表示。"
   ]
  },
  {
   "cell_type": "code",
   "execution_count": 36,
   "metadata": {
    "colab": {
     "base_uri": "https://localhost:8080/",
     "height": 59
    },
    "colab_type": "code",
    "executionInfo": {
     "elapsed": 684,
     "status": "ok",
     "timestamp": 1564904553069,
     "user": {
      "displayName": "方明旺",
      "photoUrl": "https://lh4.googleusercontent.com/-mkhlHsh5fvw/AAAAAAAAAAI/AAAAAAAAAAA/uZC5ERYFZ4k/s64/photo.jpg",
      "userId": "06059548827349409826"
     },
     "user_tz": -480
    },
    "id": "5exHXeowi3Qc",
    "outputId": "c6d71e41-c6de-4e6a-a9dd-9b3fcd187308"
   },
   "outputs": [
    {
     "name": "stdout",
     "output_type": "stream",
     "text": [
      "Found 2000 images belonging to 2 classes.\n",
      "Found 1000 images belonging to 2 classes.\n"
     ]
    }
   ],
   "source": [
    "train_datagen = ImageDataGenerator(rescale=1./255)\n",
    "test_datagen = ImageDataGenerator(rescale=1./255)\n",
    "train_generator = train_datagen.flow_from_directory(train_dir,\n",
    "                                                    target_size=(150, 150),\n",
    "                                                    batch_size=20,class_mode='binary')\n",
    "validation_generator = test_datagen.flow_from_directory(validation_dir,\n",
    "                                                        target_size=(150, 150),\n",
    "                                                        batch_size=20,class_mode='binary')\n",
    "\n",
    "  "
   ]
  },
  {
   "cell_type": "code",
   "execution_count": 37,
   "metadata": {
    "colab": {
     "base_uri": "https://localhost:8080/",
     "height": 453
    },
    "colab_type": "code",
    "executionInfo": {
     "elapsed": 1023,
     "status": "error",
     "timestamp": 1564904569079,
     "user": {
      "displayName": "方明旺",
      "photoUrl": "https://lh4.googleusercontent.com/-mkhlHsh5fvw/AAAAAAAAAAI/AAAAAAAAAAA/uZC5ERYFZ4k/s64/photo.jpg",
      "userId": "06059548827349409826"
     },
     "user_tz": -480
    },
    "id": "DL-bxG2OSbFe",
    "outputId": "cb9ce9fe-39dd-4066-8c10-13f2b94f8f48"
   },
   "outputs": [
    {
     "name": "stdout",
     "output_type": "stream",
     "text": [
      "Epoch 1/100\n"
     ]
    },
    {
     "ename": "ValueError",
     "evalue": "ignored",
     "output_type": "error",
     "traceback": [
      "\u001b[0;31m---------------------------------------------------------------------------\u001b[0m",
      "\u001b[0;31mValueError\u001b[0m                                Traceback (most recent call last)",
      "\u001b[0;32m<ipython-input-37-4661511a07f6>\u001b[0m in \u001b[0;36m<module>\u001b[0;34m()\u001b[0m\n\u001b[1;32m      7\u001b[0m                              \u001b[0mepochs\u001b[0m\u001b[0;34m=\u001b[0m\u001b[0;36m100\u001b[0m\u001b[0;34m,\u001b[0m\u001b[0;34m\u001b[0m\u001b[0;34m\u001b[0m\u001b[0m\n\u001b[1;32m      8\u001b[0m                              \u001b[0mvalidation_data\u001b[0m \u001b[0;34m=\u001b[0m \u001b[0mvalidation_generator\u001b[0m\u001b[0;34m,\u001b[0m\u001b[0;34m\u001b[0m\u001b[0;34m\u001b[0m\u001b[0m\n\u001b[0;32m----> 9\u001b[0;31m                              validation_steps=50)\n\u001b[0m",
      "\u001b[0;32m/usr/local/lib/python3.6/dist-packages/keras/legacy/interfaces.py\u001b[0m in \u001b[0;36mwrapper\u001b[0;34m(*args, **kwargs)\u001b[0m\n\u001b[1;32m     89\u001b[0m                 warnings.warn('Update your `' + object_name + '` call to the ' +\n\u001b[1;32m     90\u001b[0m                               'Keras 2 API: ' + signature, stacklevel=2)\n\u001b[0;32m---> 91\u001b[0;31m             \u001b[0;32mreturn\u001b[0m \u001b[0mfunc\u001b[0m\u001b[0;34m(\u001b[0m\u001b[0;34m*\u001b[0m\u001b[0margs\u001b[0m\u001b[0;34m,\u001b[0m \u001b[0;34m**\u001b[0m\u001b[0mkwargs\u001b[0m\u001b[0;34m)\u001b[0m\u001b[0;34m\u001b[0m\u001b[0;34m\u001b[0m\u001b[0m\n\u001b[0m\u001b[1;32m     92\u001b[0m         \u001b[0mwrapper\u001b[0m\u001b[0;34m.\u001b[0m\u001b[0m_original_function\u001b[0m \u001b[0;34m=\u001b[0m \u001b[0mfunc\u001b[0m\u001b[0;34m\u001b[0m\u001b[0;34m\u001b[0m\u001b[0m\n\u001b[1;32m     93\u001b[0m         \u001b[0;32mreturn\u001b[0m \u001b[0mwrapper\u001b[0m\u001b[0;34m\u001b[0m\u001b[0;34m\u001b[0m\u001b[0m\n",
      "\u001b[0;32m/usr/local/lib/python3.6/dist-packages/keras/engine/training.py\u001b[0m in \u001b[0;36mfit_generator\u001b[0;34m(self, generator, steps_per_epoch, epochs, verbose, callbacks, validation_data, validation_steps, class_weight, max_queue_size, workers, use_multiprocessing, shuffle, initial_epoch)\u001b[0m\n\u001b[1;32m   1416\u001b[0m             \u001b[0muse_multiprocessing\u001b[0m\u001b[0;34m=\u001b[0m\u001b[0muse_multiprocessing\u001b[0m\u001b[0;34m,\u001b[0m\u001b[0;34m\u001b[0m\u001b[0;34m\u001b[0m\u001b[0m\n\u001b[1;32m   1417\u001b[0m             \u001b[0mshuffle\u001b[0m\u001b[0;34m=\u001b[0m\u001b[0mshuffle\u001b[0m\u001b[0;34m,\u001b[0m\u001b[0;34m\u001b[0m\u001b[0;34m\u001b[0m\u001b[0m\n\u001b[0;32m-> 1418\u001b[0;31m             initial_epoch=initial_epoch)\n\u001b[0m\u001b[1;32m   1419\u001b[0m \u001b[0;34m\u001b[0m\u001b[0m\n\u001b[1;32m   1420\u001b[0m     \u001b[0;34m@\u001b[0m\u001b[0minterfaces\u001b[0m\u001b[0;34m.\u001b[0m\u001b[0mlegacy_generator_methods_support\u001b[0m\u001b[0;34m\u001b[0m\u001b[0;34m\u001b[0m\u001b[0m\n",
      "\u001b[0;32m/usr/local/lib/python3.6/dist-packages/keras/engine/training_generator.py\u001b[0m in \u001b[0;36mfit_generator\u001b[0;34m(model, generator, steps_per_epoch, epochs, verbose, callbacks, validation_data, validation_steps, class_weight, max_queue_size, workers, use_multiprocessing, shuffle, initial_epoch)\u001b[0m\n\u001b[1;32m    215\u001b[0m                 outs = model.train_on_batch(x, y,\n\u001b[1;32m    216\u001b[0m                                             \u001b[0msample_weight\u001b[0m\u001b[0;34m=\u001b[0m\u001b[0msample_weight\u001b[0m\u001b[0;34m,\u001b[0m\u001b[0;34m\u001b[0m\u001b[0;34m\u001b[0m\u001b[0m\n\u001b[0;32m--> 217\u001b[0;31m                                             class_weight=class_weight)\n\u001b[0m\u001b[1;32m    218\u001b[0m \u001b[0;34m\u001b[0m\u001b[0m\n\u001b[1;32m    219\u001b[0m                 \u001b[0mouts\u001b[0m \u001b[0;34m=\u001b[0m \u001b[0mto_list\u001b[0m\u001b[0;34m(\u001b[0m\u001b[0mouts\u001b[0m\u001b[0;34m)\u001b[0m\u001b[0;34m\u001b[0m\u001b[0;34m\u001b[0m\u001b[0m\n",
      "\u001b[0;32m/usr/local/lib/python3.6/dist-packages/keras/engine/training.py\u001b[0m in \u001b[0;36mtrain_on_batch\u001b[0;34m(self, x, y, sample_weight, class_weight)\u001b[0m\n\u001b[1;32m   1209\u001b[0m             \u001b[0mx\u001b[0m\u001b[0;34m,\u001b[0m \u001b[0my\u001b[0m\u001b[0;34m,\u001b[0m\u001b[0;34m\u001b[0m\u001b[0;34m\u001b[0m\u001b[0m\n\u001b[1;32m   1210\u001b[0m             \u001b[0msample_weight\u001b[0m\u001b[0;34m=\u001b[0m\u001b[0msample_weight\u001b[0m\u001b[0;34m,\u001b[0m\u001b[0;34m\u001b[0m\u001b[0;34m\u001b[0m\u001b[0m\n\u001b[0;32m-> 1211\u001b[0;31m             class_weight=class_weight)\n\u001b[0m\u001b[1;32m   1212\u001b[0m         \u001b[0;32mif\u001b[0m \u001b[0mself\u001b[0m\u001b[0;34m.\u001b[0m\u001b[0m_uses_dynamic_learning_phase\u001b[0m\u001b[0;34m(\u001b[0m\u001b[0;34m)\u001b[0m\u001b[0;34m:\u001b[0m\u001b[0;34m\u001b[0m\u001b[0;34m\u001b[0m\u001b[0m\n\u001b[1;32m   1213\u001b[0m             \u001b[0mins\u001b[0m \u001b[0;34m=\u001b[0m \u001b[0mx\u001b[0m \u001b[0;34m+\u001b[0m \u001b[0my\u001b[0m \u001b[0;34m+\u001b[0m \u001b[0msample_weights\u001b[0m \u001b[0;34m+\u001b[0m \u001b[0;34m[\u001b[0m\u001b[0;36m1.\u001b[0m\u001b[0;34m]\u001b[0m\u001b[0;34m\u001b[0m\u001b[0;34m\u001b[0m\u001b[0m\n",
      "\u001b[0;32m/usr/local/lib/python3.6/dist-packages/keras/engine/training.py\u001b[0m in \u001b[0;36m_standardize_user_data\u001b[0;34m(self, x, y, sample_weight, class_weight, check_array_lengths, batch_size)\u001b[0m\n\u001b[1;32m    749\u001b[0m             \u001b[0mfeed_input_shapes\u001b[0m\u001b[0;34m,\u001b[0m\u001b[0;34m\u001b[0m\u001b[0;34m\u001b[0m\u001b[0m\n\u001b[1;32m    750\u001b[0m             \u001b[0mcheck_batch_axis\u001b[0m\u001b[0;34m=\u001b[0m\u001b[0;32mFalse\u001b[0m\u001b[0;34m,\u001b[0m  \u001b[0;31m# Don't enforce the batch size.\u001b[0m\u001b[0;34m\u001b[0m\u001b[0;34m\u001b[0m\u001b[0m\n\u001b[0;32m--> 751\u001b[0;31m             exception_prefix='input')\n\u001b[0m\u001b[1;32m    752\u001b[0m \u001b[0;34m\u001b[0m\u001b[0m\n\u001b[1;32m    753\u001b[0m         \u001b[0;32mif\u001b[0m \u001b[0my\u001b[0m \u001b[0;32mis\u001b[0m \u001b[0;32mnot\u001b[0m \u001b[0;32mNone\u001b[0m\u001b[0;34m:\u001b[0m\u001b[0;34m\u001b[0m\u001b[0;34m\u001b[0m\u001b[0m\n",
      "\u001b[0;32m/usr/local/lib/python3.6/dist-packages/keras/engine/training_utils.py\u001b[0m in \u001b[0;36mstandardize_input_data\u001b[0;34m(data, names, shapes, check_batch_axis, exception_prefix)\u001b[0m\n\u001b[1;32m    126\u001b[0m                         \u001b[0;34m': expected '\u001b[0m \u001b[0;34m+\u001b[0m \u001b[0mnames\u001b[0m\u001b[0;34m[\u001b[0m\u001b[0mi\u001b[0m\u001b[0;34m]\u001b[0m \u001b[0;34m+\u001b[0m \u001b[0;34m' to have '\u001b[0m \u001b[0;34m+\u001b[0m\u001b[0;34m\u001b[0m\u001b[0;34m\u001b[0m\u001b[0m\n\u001b[1;32m    127\u001b[0m                         \u001b[0mstr\u001b[0m\u001b[0;34m(\u001b[0m\u001b[0mlen\u001b[0m\u001b[0;34m(\u001b[0m\u001b[0mshape\u001b[0m\u001b[0;34m)\u001b[0m\u001b[0;34m)\u001b[0m \u001b[0;34m+\u001b[0m \u001b[0;34m' dimensions, but got array '\u001b[0m\u001b[0;34m\u001b[0m\u001b[0;34m\u001b[0m\u001b[0m\n\u001b[0;32m--> 128\u001b[0;31m                         'with shape ' + str(data_shape))\n\u001b[0m\u001b[1;32m    129\u001b[0m                 \u001b[0;32mif\u001b[0m \u001b[0;32mnot\u001b[0m \u001b[0mcheck_batch_axis\u001b[0m\u001b[0;34m:\u001b[0m\u001b[0;34m\u001b[0m\u001b[0;34m\u001b[0m\u001b[0m\n\u001b[1;32m    130\u001b[0m                     \u001b[0mdata_shape\u001b[0m \u001b[0;34m=\u001b[0m \u001b[0mdata_shape\u001b[0m\u001b[0;34m[\u001b[0m\u001b[0;36m1\u001b[0m\u001b[0;34m:\u001b[0m\u001b[0;34m]\u001b[0m\u001b[0;34m\u001b[0m\u001b[0;34m\u001b[0m\u001b[0m\n",
      "\u001b[0;31mValueError\u001b[0m: Error when checking input: expected dense_1_input to have 2 dimensions, but got array with shape (20, 150, 150, 3)"
     ]
    }
   ],
   "source": [
    "model.compile(loss='binary_crossentropy',\n",
    "             optimizer=optimizers.RMSprop(lr=1e-5),\n",
    "             metrics=['acc'])\n",
    "\n",
    "history = model.fit_generator(train_generator,\n",
    "                             steps_per_epoch=100,\n",
    "                             epochs=100,\n",
    "                             validation_data = validation_generator,\n",
    "                             validation_steps=50)"
   ]
  },
  {
   "cell_type": "code",
   "execution_count": 0,
   "metadata": {
    "colab": {},
    "colab_type": "code",
    "id": "uke3Q4_Gisq6"
   },
   "outputs": [],
   "source": []
  },
  {
   "cell_type": "code",
   "execution_count": 0,
   "metadata": {
    "colab": {},
    "colab_type": "code",
    "id": "eLiKWZlTexB9"
   },
   "outputs": [],
   "source": []
  }
 ],
 "metadata": {
  "accelerator": "GPU",
  "colab": {
   "name": "5-3-2微调模型.ipynb",
   "provenance": [],
   "version": "0.3.2"
  },
  "kernelspec": {
   "display_name": "Python 3",
   "language": "python",
   "name": "python3"
  },
  "language_info": {
   "codemirror_mode": {
    "name": "ipython",
    "version": 3
   },
   "file_extension": ".py",
   "mimetype": "text/x-python",
   "name": "python",
   "nbconvert_exporter": "python",
   "pygments_lexer": "ipython3",
   "version": "3.7.3"
  }
 },
 "nbformat": 4,
 "nbformat_minor": 1
}
