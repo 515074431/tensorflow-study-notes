{
 "cells": [
  {
   "cell_type": "markdown",
   "metadata": {},
   "source": [
    "#### 使用预训练的卷积神经网络\n",
    "\n",
    "##### 特征提取"
   ]
  },
  {
   "cell_type": "code",
   "execution_count": 2,
   "metadata": {},
   "outputs": [],
   "source": [
    "from keras.applications import VGG16\n",
    "\n",
    "conv_base = VGG16(weights='imagenet',\n",
    "                 include_top=False,\n",
    "                 input_shape=(150,150,3))"
   ]
  },
  {
   "cell_type": "code",
   "execution_count": 3,
   "metadata": {},
   "outputs": [
    {
     "name": "stdout",
     "output_type": "stream",
     "text": [
      "_________________________________________________________________\n",
      "Layer (type)                 Output Shape              Param #   \n",
      "=================================================================\n",
      "input_2 (InputLayer)         (None, 150, 150, 3)       0         \n",
      "_________________________________________________________________\n",
      "block1_conv1 (Conv2D)        (None, 150, 150, 64)      1792      \n",
      "_________________________________________________________________\n",
      "block1_conv2 (Conv2D)        (None, 150, 150, 64)      36928     \n",
      "_________________________________________________________________\n",
      "block1_pool (MaxPooling2D)   (None, 75, 75, 64)        0         \n",
      "_________________________________________________________________\n",
      "block2_conv1 (Conv2D)        (None, 75, 75, 128)       73856     \n",
      "_________________________________________________________________\n",
      "block2_conv2 (Conv2D)        (None, 75, 75, 128)       147584    \n",
      "_________________________________________________________________\n",
      "block2_pool (MaxPooling2D)   (None, 37, 37, 128)       0         \n",
      "_________________________________________________________________\n",
      "block3_conv1 (Conv2D)        (None, 37, 37, 256)       295168    \n",
      "_________________________________________________________________\n",
      "block3_conv2 (Conv2D)        (None, 37, 37, 256)       590080    \n",
      "_________________________________________________________________\n",
      "block3_conv3 (Conv2D)        (None, 37, 37, 256)       590080    \n",
      "_________________________________________________________________\n",
      "block3_pool (MaxPooling2D)   (None, 18, 18, 256)       0         \n",
      "_________________________________________________________________\n",
      "block4_conv1 (Conv2D)        (None, 18, 18, 512)       1180160   \n",
      "_________________________________________________________________\n",
      "block4_conv2 (Conv2D)        (None, 18, 18, 512)       2359808   \n",
      "_________________________________________________________________\n",
      "block4_conv3 (Conv2D)        (None, 18, 18, 512)       2359808   \n",
      "_________________________________________________________________\n",
      "block4_pool (MaxPooling2D)   (None, 9, 9, 512)         0         \n",
      "_________________________________________________________________\n",
      "block5_conv1 (Conv2D)        (None, 9, 9, 512)         2359808   \n",
      "_________________________________________________________________\n",
      "block5_conv2 (Conv2D)        (None, 9, 9, 512)         2359808   \n",
      "_________________________________________________________________\n",
      "block5_conv3 (Conv2D)        (None, 9, 9, 512)         2359808   \n",
      "_________________________________________________________________\n",
      "block5_pool (MaxPooling2D)   (None, 4, 4, 512)         0         \n",
      "=================================================================\n",
      "Total params: 14,714,688\n",
      "Trainable params: 14,714,688\n",
      "Non-trainable params: 0\n",
      "_________________________________________________________________\n"
     ]
    }
   ],
   "source": [
    "conv_base.summary()"
   ]
  },
  {
   "cell_type": "markdown",
   "metadata": {},
   "source": [
    "最后的特征图形状为(4, 4, 512)。我们将在这个特征上添加一个密集连接分类器。\n",
    "接下来，下一步有两种方法可供选择。\n",
    "- 在你的数据集上运行卷积基，将输出保存成硬盘中的Numpy 数组，然后用这个数据作为输入，输入到独立的密集连接分类器中（与本书第一部分介绍的分类器类似）。这种方法速度快，计算代价低，因为对于每个输入图像只需运行一次卷积基，而卷积基是目前流程中计算代价最高的。但出于同样的原因，这种方法不允许你使用数据增强。\n",
    "- 在顶部添加 Dense 层来扩展已有模型（即 conv_base），并在输入数据上端到端地运行整个模型。这样你可以使用数据增强，因为每个输入图像进入模型时都会经过卷积基。但出于同样的原因，这种方法的计算代价比第一种要高很多。"
   ]
  },
  {
   "cell_type": "markdown",
   "metadata": {},
   "source": [
    "##### 1. 不使用数据增强的快速特征提取\n",
    "\n",
    "首先，运行ImageDataGenerator 实例，将图像及其标签提取为Numpy 数组。我们需要\n",
    "调用conv_base 模型的predict 方法来从这些图像中提取特征。\n",
    "\n",
    ">使用预训练的卷积基提取特征 "
   ]
  },
  {
   "cell_type": "code",
   "execution_count": 4,
   "metadata": {},
   "outputs": [
    {
     "name": "stdout",
     "output_type": "stream",
     "text": [
      "Found 2000 images belonging to 2 classes.\n",
      "Found 1000 images belonging to 2 classes.\n",
      "Found 1000 images belonging to 2 classes.\n"
     ]
    }
   ],
   "source": [
    "import os\n",
    "import numpy as np\n",
    "from keras.preprocessing.image import ImageDataGenerator\n",
    "\n",
    "base_dir = '../data/cats_and_dogs_small'\n",
    "train_dir = os.path.join(base_dir,'train')\n",
    "validation_dir = os.path.join(base_dir,'validation')\n",
    "test_dir = os.path.join(base_dir,'test')\n",
    "\n",
    "datagen = ImageDataGenerator(rescale=1./255)\n",
    "batch_size = 20\n",
    "\n",
    "def extract_features(directory, sample_count):\n",
    "    features = np.zeros(shape=(sample_count,4,4,512))\n",
    "    labels = np.zeros(shape=(sample_count))\n",
    "    generator = datagen.flow_from_directory(directory,\n",
    "                                           target_size=(150,150),\n",
    "                                           batch_size=batch_size,\n",
    "                                           class_mode='binary')\n",
    "    i = 0\n",
    "    for inputs_batch, labels_batch in generator:\n",
    "        features_batch = conv_base.predict(inputs_batch)\n",
    "        features[i * batch_size : (i+1) * batch_size] = features_batch\n",
    "        labels[i * batch_size : (i+1) * batch_size] = labels_batch\n",
    "        i += 1\n",
    "        if i * batch_size >= sample_count:\n",
    "            break #注意：这些生成器在循环生成数据，所以必须要在生成所有图像后终止循环\n",
    "    return features, labels\n",
    "\n",
    "train_features, train_labels = extract_features(train_dir,2000)\n",
    "validation_features, validation_labels = extract_features(validation_dir,1000)\n",
    "test_features, test_labels = extract_features(test_dir,1000)"
   ]
  },
  {
   "cell_type": "code",
   "execution_count": 5,
   "metadata": {},
   "outputs": [
    {
     "data": {
      "text/plain": [
       "(2000, 4, 4, 512)"
      ]
     },
     "execution_count": 5,
     "metadata": {},
     "output_type": "execute_result"
    }
   ],
   "source": [
    "train_features.shape"
   ]
  },
  {
   "cell_type": "markdown",
   "metadata": {},
   "source": [
    "目前，提取的特征形状为(samples, 4, 4, 512)。我们要将其输入到密集连接分类器中，\n",
    "所以首先必须将其形状展平为(samples, 8192)"
   ]
  },
  {
   "cell_type": "code",
   "execution_count": 6,
   "metadata": {},
   "outputs": [
    {
     "data": {
      "text/plain": [
       "(2000, 8192)"
      ]
     },
     "execution_count": 6,
     "metadata": {},
     "output_type": "execute_result"
    }
   ],
   "source": [
    "train_features = np.reshape(train_features,(2000,4*4*512))\n",
    "validation_features = np.reshape(validation_features,(1000,4*4*512))\n",
    "test_features = np.reshape(test_features,(1000,4*4*512))\n",
    "\n",
    "train_features.shape"
   ]
  },
  {
   "cell_type": "markdown",
   "metadata": {},
   "source": [
    "现在你可以定义你的密集连接分类器（注意要使用dropout 正则化），并在刚刚保存的数据\n",
    "和标签上训练这个分类器。"
   ]
  },
  {
   "cell_type": "code",
   "execution_count": 7,
   "metadata": {},
   "outputs": [
    {
     "name": "stdout",
     "output_type": "stream",
     "text": [
      "WARNING:tensorflow:From d:\\Anaconda3\\lib\\site-packages\\keras\\backend\\tensorflow_backend.py:3445: calling dropout (from tensorflow.python.ops.nn_ops) with keep_prob is deprecated and will be removed in a future version.\n",
      "Instructions for updating:\n",
      "Please use `rate` instead of `keep_prob`. Rate should be set to `rate = 1 - keep_prob`.\n",
      "WARNING:tensorflow:From d:\\Anaconda3\\lib\\site-packages\\tensorflow\\python\\ops\\math_ops.py:3066: to_int32 (from tensorflow.python.ops.math_ops) is deprecated and will be removed in a future version.\n",
      "Instructions for updating:\n",
      "Use tf.cast instead.\n",
      "Train on 2000 samples, validate on 1000 samples\n",
      "Epoch 1/30\n",
      "2000/2000 [==============================] - 4s 2ms/step - loss: 0.5789 - acc: 0.6930 - val_loss: 0.4207 - val_acc: 0.8460\n",
      "Epoch 2/30\n",
      "2000/2000 [==============================] - 3s 1ms/step - loss: 0.4194 - acc: 0.8155 - val_loss: 0.3636 - val_acc: 0.8480\n",
      "Epoch 3/30\n",
      "2000/2000 [==============================] - 3s 1ms/step - loss: 0.3584 - acc: 0.8450 - val_loss: 0.3207 - val_acc: 0.8850\n",
      "Epoch 4/30\n",
      "2000/2000 [==============================] - 3s 2ms/step - loss: 0.3012 - acc: 0.8795 - val_loss: 0.2961 - val_acc: 0.8870\n",
      "Epoch 5/30\n",
      "2000/2000 [==============================] - 4s 2ms/step - loss: 0.2881 - acc: 0.8820 - val_loss: 0.2826 - val_acc: 0.8890\n",
      "Epoch 6/30\n",
      "2000/2000 [==============================] - 3s 2ms/step - loss: 0.2654 - acc: 0.8955 - val_loss: 0.2728 - val_acc: 0.8900\n",
      "Epoch 7/30\n",
      "2000/2000 [==============================] - 4s 2ms/step - loss: 0.2437 - acc: 0.9070 - val_loss: 0.2632 - val_acc: 0.8950\n",
      "Epoch 8/30\n",
      "2000/2000 [==============================] - 3s 2ms/step - loss: 0.2307 - acc: 0.9145 - val_loss: 0.2576 - val_acc: 0.8970\n",
      "Epoch 9/30\n",
      "2000/2000 [==============================] - 3s 2ms/step - loss: 0.2159 - acc: 0.9150 - val_loss: 0.2529 - val_acc: 0.9000\n",
      "Epoch 10/30\n",
      "2000/2000 [==============================] - 3s 2ms/step - loss: 0.2069 - acc: 0.9240 - val_loss: 0.2660 - val_acc: 0.8840\n",
      "Epoch 11/30\n",
      "2000/2000 [==============================] - 3s 2ms/step - loss: 0.1960 - acc: 0.9265 - val_loss: 0.2472 - val_acc: 0.8970\n",
      "Epoch 12/30\n",
      "2000/2000 [==============================] - 3s 2ms/step - loss: 0.1857 - acc: 0.9325 - val_loss: 0.2434 - val_acc: 0.9040\n",
      "Epoch 13/30\n",
      "2000/2000 [==============================] - 3s 1ms/step - loss: 0.1702 - acc: 0.9390 - val_loss: 0.2416 - val_acc: 0.9020\n",
      "Epoch 14/30\n",
      "2000/2000 [==============================] - 3s 2ms/step - loss: 0.1663 - acc: 0.9420 - val_loss: 0.2404 - val_acc: 0.9050\n",
      "Epoch 15/30\n",
      "2000/2000 [==============================] - 3s 2ms/step - loss: 0.1611 - acc: 0.9465 - val_loss: 0.2421 - val_acc: 0.8980\n",
      "Epoch 16/30\n",
      "2000/2000 [==============================] - 3s 1ms/step - loss: 0.1486 - acc: 0.9495 - val_loss: 0.2397 - val_acc: 0.9000\n",
      "Epoch 17/30\n",
      "2000/2000 [==============================] - 3s 1ms/step - loss: 0.1478 - acc: 0.9485 - val_loss: 0.2364 - val_acc: 0.9060\n",
      "Epoch 18/30\n",
      "2000/2000 [==============================] - 3s 1ms/step - loss: 0.1371 - acc: 0.9505 - val_loss: 0.2362 - val_acc: 0.9050\n",
      "Epoch 19/30\n",
      "2000/2000 [==============================] - 3s 1ms/step - loss: 0.1332 - acc: 0.9530 - val_loss: 0.2502 - val_acc: 0.8990\n",
      "Epoch 20/30\n",
      "2000/2000 [==============================] - 3s 1ms/step - loss: 0.1276 - acc: 0.9535 - val_loss: 0.2366 - val_acc: 0.9020\n",
      "Epoch 21/30\n",
      "2000/2000 [==============================] - 3s 1ms/step - loss: 0.1261 - acc: 0.9560 - val_loss: 0.2393 - val_acc: 0.9040\n",
      "Epoch 22/30\n",
      "2000/2000 [==============================] - 3s 1ms/step - loss: 0.1194 - acc: 0.9615 - val_loss: 0.2366 - val_acc: 0.9030\n",
      "Epoch 23/30\n",
      "2000/2000 [==============================] - 3s 1ms/step - loss: 0.1188 - acc: 0.9590 - val_loss: 0.2356 - val_acc: 0.9020\n",
      "Epoch 24/30\n",
      "2000/2000 [==============================] - 3s 2ms/step - loss: 0.1049 - acc: 0.9680 - val_loss: 0.2444 - val_acc: 0.9030\n",
      "Epoch 25/30\n",
      "2000/2000 [==============================] - 3s 1ms/step - loss: 0.1026 - acc: 0.9685 - val_loss: 0.2364 - val_acc: 0.9020\n",
      "Epoch 26/30\n",
      "2000/2000 [==============================] - 3s 1ms/step - loss: 0.1005 - acc: 0.9670 - val_loss: 0.2382 - val_acc: 0.9030\n",
      "Epoch 27/30\n",
      "2000/2000 [==============================] - 3s 1ms/step - loss: 0.0940 - acc: 0.9700 - val_loss: 0.2494 - val_acc: 0.8980\n",
      "Epoch 28/30\n",
      "2000/2000 [==============================] - 3s 1ms/step - loss: 0.0963 - acc: 0.9715 - val_loss: 0.2406 - val_acc: 0.9030\n",
      "Epoch 29/30\n",
      "2000/2000 [==============================] - 3s 2ms/step - loss: 0.0830 - acc: 0.9810 - val_loss: 0.2467 - val_acc: 0.9000\n",
      "Epoch 30/30\n",
      "2000/2000 [==============================] - 3s 1ms/step - loss: 0.0881 - acc: 0.9725 - val_loss: 0.2487 - val_acc: 0.8980\n"
     ]
    }
   ],
   "source": [
    "from keras import models\n",
    "from keras import layers\n",
    "from keras import optimizers\n",
    "\n",
    "model = models.Sequential()\n",
    "model.add(layers.Dense(256, activation='relu', input_dim= 4 * 4 * 512))\n",
    "model.add(layers.Dropout(0.5))\n",
    "model.add(layers.Dense(1,activation='sigmoid'))\n",
    "\n",
    "model.compile(optimizer=optimizers.RMSprop(lr=2e-5),\n",
    "             loss='binary_crossentropy',\n",
    "             metrics=['acc'])\n",
    "\n",
    "history = model.fit(train_features,train_labels,\n",
    "                   epochs=30,\n",
    "                   batch_size=20,\n",
    "                   validation_data=(validation_features,validation_labels))"
   ]
  },
  {
   "cell_type": "code",
   "execution_count": 9,
   "metadata": {},
   "outputs": [
    {
     "name": "stdout",
     "output_type": "stream",
     "text": [
      "_________________________________________________________________\n",
      "Layer (type)                 Output Shape              Param #   \n",
      "=================================================================\n",
      "dense_1 (Dense)              (None, 256)               2097408   \n",
      "_________________________________________________________________\n",
      "dropout_1 (Dropout)          (None, 256)               0         \n",
      "_________________________________________________________________\n",
      "dense_2 (Dense)              (None, 1)                 257       \n",
      "=================================================================\n",
      "Total params: 2,097,665\n",
      "Trainable params: 2,097,665\n",
      "Non-trainable params: 0\n",
      "_________________________________________________________________\n"
     ]
    }
   ],
   "source": [
    "model.summary()"
   ]
  },
  {
   "cell_type": "markdown",
   "metadata": {},
   "source": [
    "我们来看一下训练期间的损失曲线和精度曲线"
   ]
  },
  {
   "cell_type": "code",
   "execution_count": 10,
   "metadata": {},
   "outputs": [
    {
     "data": {
      "image/png": "[encoded data removed]",
      "text/plain": [
       "<Figure size 432x288 with 1 Axes>"
      ]
     },
     "metadata": {
      "needs_background": "light"
     },
     "output_type": "display_data"
    },
    {
     "data": {
      "image/png": "[encoded data removed]",
      "text/plain": [
       "<Figure size 432x288 with 1 Axes>"
      ]
     },
     "metadata": {
      "needs_background": "light"
     },
     "output_type": "display_data"
    }
   ],
   "source": [
    "import matplotlib.pyplot as plt\n",
    "%matplotlib inline\n",
    "\n",
    "acc = history.history['acc']\n",
    "val_acc = history.history['val_acc']\n",
    "loss = history.history['loss']\n",
    "val_loss = history.history['val_loss']\n",
    "\n",
    "epochs = range(1, len(acc)+1)\n",
    "\n",
    "plt.plot(epochs,acc,'bo',label='Training acc')\n",
    "plt.plot(epochs,val_acc,'b',label='Validation acc')\n",
    "plt.title('Training and validation accuracy')\n",
    "plt.legend()\n",
    "\n",
    "plt.figure()\n",
    "\n",
    "plt.plot(epochs,loss,'bo',label='Training loss')\n",
    "plt.plot(epochs,val_loss,'b',label='Validation loss')\n",
    "plt.title('Training and validation loss')\n",
    "plt.legend()\n",
    "\n",
    "plt.show()"
   ]
  },
  {
   "cell_type": "markdown",
   "metadata": {},
   "source": [
    "我们的验证精度达到了约90%，比上一节从头开始训练的小型模型效果要好得多。但从图\n",
    "中也可以看出，虽然dropout 比率相当大，但模型几乎从一开始就过拟合。这是因为本方法没有\n",
    "使用数据增强，而数据增强对防止小型图像数据集的过拟合非常重要。\n",
    "\n",
    "##### 2.使用数据增强的特征提取\n",
    "\n",
    "下面我们来看一下特征提取的第二种方法，它的速度更慢，计算代价更高，但在训练期间\n",
    "可以使用数据增强。这种方法就是：扩展conv_base 模型，然后在输入数据上端到端地运行模型。\n",
    "> 注意 本方法计算代价很高，只在有GPU 的情况下才能尝试运行。它在CPU 上是绝对难以运\n",
    "行的。如果你无法在GPU 上运行代码，那么就采用第一种方法。\n",
    "\n",
    "模型的行为和层类似，所以你可以向Sequential 模型中添加一个模型（比如conv_base），\n",
    "就像添加一个层一样。"
   ]
  },
  {
   "cell_type": "code",
   "execution_count": 11,
   "metadata": {},
   "outputs": [],
   "source": [
    "model2 = models.Sequential()\n",
    "model2.add(conv_base)\n",
    "model2.add(layers.Flatten())\n",
    "model2.add(layers.Dense(256, activation='relu'))\n",
    "model2.add(layers.Dense(1, activation='sigmoid'))\n"
   ]
  },
  {
   "cell_type": "code",
   "execution_count": 12,
   "metadata": {},
   "outputs": [
    {
     "name": "stdout",
     "output_type": "stream",
     "text": [
      "_________________________________________________________________\n",
      "Layer (type)                 Output Shape              Param #   \n",
      "=================================================================\n",
      "vgg16 (Model)                (None, 4, 4, 512)         14714688  \n",
      "_________________________________________________________________\n",
      "flatten_1 (Flatten)          (None, 8192)              0         \n",
      "_________________________________________________________________\n",
      "dense_3 (Dense)              (None, 256)               2097408   \n",
      "_________________________________________________________________\n",
      "dense_4 (Dense)              (None, 1)                 257       \n",
      "=================================================================\n",
      "Total params: 16,812,353\n",
      "Trainable params: 16,812,353\n",
      "Non-trainable params: 0\n",
      "_________________________________________________________________\n"
     ]
    }
   ],
   "source": [
    "model2.summary()"
   ]
  },
  {
   "cell_type": "code",
   "execution_count": 13,
   "metadata": {},
   "outputs": [
    {
     "name": "stdout",
     "output_type": "stream",
     "text": [
      "This is the number of trainable weights before freezing the conv base: 30\n"
     ]
    }
   ],
   "source": [
    "print('This is the number of trainable weights before freezing the conv base:',\n",
    "     len(model2.trainable_weights))"
   ]
  },
  {
   "cell_type": "code",
   "execution_count": 14,
   "metadata": {},
   "outputs": [
    {
     "name": "stdout",
     "output_type": "stream",
     "text": [
      "This is the number of trainable weights after freezing the conv base: 4\n"
     ]
    }
   ],
   "source": [
    "conv_base.trainable = False\n",
    "print('This is the number of trainable weights after freezing the conv base:',\n",
    "     len(model2.trainable_weights))"
   ]
  },
  {
   "cell_type": "markdown",
   "metadata": {},
   "source": [
    "现在你可以开始训练模型了，使用和前一个例子相同的数据增强设置。"
   ]
  },
  {
   "cell_type": "code",
   "execution_count": 15,
   "metadata": {},
   "outputs": [],
   "source": [
    "\n",
    "train_datagen = ImageDataGenerator(rescale=1./255,\n",
    "                                  rotation_range=40,\n",
    "                                  width_shift_range=0.2,\n",
    "                                  height_shift_range=0.2,\n",
    "                                  shear_range=0.2,\n",
    "                                  zoom_range=0.2,\n",
    "                                  horizontal_flip=True,\n",
    "                                  fill_mode='nearest')\n",
    "\n",
    "test_datagen = ImageDataGenerator(rescale=1./255)# 注意:不能增强验证数据\n",
    "\n"
   ]
  },
  {
   "cell_type": "code",
   "execution_count": 16,
   "metadata": {},
   "outputs": [
    {
     "name": "stdout",
     "output_type": "stream",
     "text": [
      "Found 2000 images belonging to 2 classes.\n",
      "Found 1000 images belonging to 2 classes.\n",
      "Epoch 1/30\n",
      "100/100 [==============================] - 381s 4s/step - loss: 0.5971 - acc: 0.6930 - val_loss: 0.4683 - val_acc: 0.8220\n",
      "Epoch 2/30\n",
      "100/100 [==============================] - 379s 4s/step - loss: 0.4871 - acc: 0.7875 - val_loss: 0.3808 - val_acc: 0.8530\n",
      "Epoch 3/30\n",
      "100/100 [==============================] - 383s 4s/step - loss: 0.4359 - acc: 0.8110 - val_loss: 0.3339 - val_acc: 0.8740\n",
      "Epoch 4/30\n",
      "100/100 [==============================] - 384s 4s/step - loss: 0.4083 - acc: 0.8320 - val_loss: 0.3152 - val_acc: 0.8710\n",
      "Epoch 5/30\n",
      "100/100 [==============================] - 380s 4s/step - loss: 0.3887 - acc: 0.8415 - val_loss: 0.2975 - val_acc: 0.8830\n",
      "Epoch 6/30\n",
      "100/100 [==============================] - 394s 4s/step - loss: 0.3867 - acc: 0.8230 - val_loss: 0.2853 - val_acc: 0.8880\n",
      "Epoch 7/30\n",
      "100/100 [==============================] - 395s 4s/step - loss: 0.3498 - acc: 0.8560 - val_loss: 0.2801 - val_acc: 0.8850\n",
      "Epoch 8/30\n",
      "100/100 [==============================] - 386s 4s/step - loss: 0.3522 - acc: 0.8410 - val_loss: 0.2735 - val_acc: 0.8860\n",
      "Epoch 9/30\n",
      "100/100 [==============================] - 384s 4s/step - loss: 0.3541 - acc: 0.8450 - val_loss: 0.2631 - val_acc: 0.8920\n",
      "Epoch 10/30\n",
      "100/100 [==============================] - 390s 4s/step - loss: 0.3382 - acc: 0.8480 - val_loss: 0.2650 - val_acc: 0.8880\n",
      "Epoch 11/30\n",
      "100/100 [==============================] - 390s 4s/step - loss: 0.3292 - acc: 0.8565 - val_loss: 0.2590 - val_acc: 0.8920\n",
      "Epoch 12/30\n",
      "100/100 [==============================] - 389s 4s/step - loss: 0.3316 - acc: 0.8580 - val_loss: 0.2609 - val_acc: 0.8870\n",
      "Epoch 13/30\n",
      "100/100 [==============================] - 380s 4s/step - loss: 0.3349 - acc: 0.8535 - val_loss: 0.2567 - val_acc: 0.8950\n",
      "Epoch 14/30\n",
      "100/100 [==============================] - 378s 4s/step - loss: 0.3171 - acc: 0.8590 - val_loss: 0.2605 - val_acc: 0.8930\n",
      "Epoch 15/30\n",
      "100/100 [==============================] - 380s 4s/step - loss: 0.3292 - acc: 0.8525 - val_loss: 0.2501 - val_acc: 0.8950\n",
      "Epoch 16/30\n",
      "100/100 [==============================] - 375s 4s/step - loss: 0.3121 - acc: 0.8645 - val_loss: 0.2581 - val_acc: 0.8890\n",
      "Epoch 17/30\n",
      "100/100 [==============================] - 376s 4s/step - loss: 0.3167 - acc: 0.8600 - val_loss: 0.2525 - val_acc: 0.8980\n",
      "Epoch 18/30\n",
      "100/100 [==============================] - 385s 4s/step - loss: 0.3055 - acc: 0.8625 - val_loss: 0.2430 - val_acc: 0.9060\n",
      "Epoch 19/30\n",
      "100/100 [==============================] - 390s 4s/step - loss: 0.3040 - acc: 0.8750 - val_loss: 0.2413 - val_acc: 0.9020\n",
      "Epoch 20/30\n",
      "100/100 [==============================] - 387s 4s/step - loss: 0.3093 - acc: 0.8620 - val_loss: 0.2405 - val_acc: 0.9060\n",
      "Epoch 21/30\n",
      "100/100 [==============================] - 386s 4s/step - loss: 0.3010 - acc: 0.8635 - val_loss: 0.2439 - val_acc: 0.9010\n",
      "Epoch 22/30\n",
      "100/100 [==============================] - 387s 4s/step - loss: 0.3099 - acc: 0.8665 - val_loss: 0.2428 - val_acc: 0.9020\n",
      "Epoch 23/30\n",
      "100/100 [==============================] - 381s 4s/step - loss: 0.3167 - acc: 0.8545 - val_loss: 0.2493 - val_acc: 0.8920\n",
      "Epoch 24/30\n",
      "100/100 [==============================] - 383s 4s/step - loss: 0.2945 - acc: 0.8700 - val_loss: 0.2420 - val_acc: 0.9040\n",
      "Epoch 25/30\n",
      "100/100 [==============================] - 380s 4s/step - loss: 0.2819 - acc: 0.8770 - val_loss: 0.2413 - val_acc: 0.8990\n",
      "Epoch 26/30\n",
      "100/100 [==============================] - 382s 4s/step - loss: 0.2878 - acc: 0.8770 - val_loss: 0.2436 - val_acc: 0.8970\n",
      "Epoch 27/30\n",
      "100/100 [==============================] - 381s 4s/step - loss: 0.2939 - acc: 0.8730 - val_loss: 0.2386 - val_acc: 0.9010\n",
      "Epoch 28/30\n",
      "100/100 [==============================] - 403s 4s/step - loss: 0.2817 - acc: 0.8825 - val_loss: 0.2443 - val_acc: 0.8960\n",
      "Epoch 29/30\n",
      "100/100 [==============================] - 382s 4s/step - loss: 0.2903 - acc: 0.8795 - val_loss: 0.2399 - val_acc: 0.9060\n",
      "Epoch 30/30\n",
      "100/100 [==============================] - 381s 4s/step - loss: 0.3029 - acc: 0.8665 - val_loss: 0.2778 - val_acc: 0.8760\n"
     ]
    }
   ],
   "source": [
    "train_generator = train_datagen.flow_from_directory(train_dir,#目标目录\n",
    "                                                   target_size=(150,150),#将所有图像的大小调整为150X150\n",
    "                                                   batch_size=20,\n",
    "                                                   class_mode='binary')#因为使用了binary_crossentropy损失，所以要用二进制标签\n",
    "\n",
    "validation_generator = test_datagen.flow_from_directory(validation_dir,\n",
    "                                                       target_size=(150,150),\n",
    "                                                       batch_size=20,\n",
    "                                                       class_mode='binary')\n",
    "\n",
    "model2.compile(loss='binary_crossentropy',\n",
    "             optimizer=optimizers.RMSprop(lr=2e-5),\n",
    "             metrics=['acc'])\n",
    "\n",
    "history2 = model2.fit_generator(train_generator,\n",
    "                               steps_per_epoch=100,\n",
    "                               epochs=30,\n",
    "                               validation_data=validation_generator,\n",
    "                               validation_steps=50)"
   ]
  },
  {
   "cell_type": "code",
   "execution_count": 18,
   "metadata": {},
   "outputs": [
    {
     "data": {
      "image/png": "[encoded data removed]",
      "text/plain": [
       "<Figure size 432x288 with 1 Axes>"
      ]
     },
     "metadata": {
      "needs_background": "light"
     },
     "output_type": "display_data"
    },
    {
     "data": {
      "image/png": "[encoded data removed]",
      "text/plain": [
       "<Figure size 432x288 with 1 Axes>"
      ]
     },
     "metadata": {
      "needs_background": "light"
     },
     "output_type": "display_data"
    }
   ],
   "source": [
    "acc2 = history2.history['acc']\n",
    "val_acc2 = history2.history['val_acc']\n",
    "loss2 = history2.history['loss']\n",
    "val_loss2 = history2.history['val_loss']\n",
    "\n",
    "epochs2 = range(1,len(acc2) + 1)\n",
    "\n",
    "plt.plot(epochs2,acc2,'bo',label='Training acc')\n",
    "plt.plot(epochs2,val_acc2,'b',label='Validation acc')\n",
    "plt.title('Training and validation accuracy')\n",
    "plt.legend()\n",
    "\n",
    "plt.figure()\n",
    "\n",
    "plt.plot(epochs2,loss2,'bo',label='Training loss')\n",
    "plt.plot(epochs2,val_loss2,'b',label='Validation loss')\n",
    "plt.title('Training and validation loss')\n",
    "plt.legend()\n",
    "\n",
    "plt.show()"
   ]
  },
  {
   "cell_type": "code",
   "execution_count": null,
   "metadata": {},
   "outputs": [],
   "source": []
  }
 ],
 "metadata": {
  "kernelspec": {
   "display_name": "Python 3",
   "language": "python",
   "name": "python3"
  },
  "language_info": {
   "codemirror_mode": {
    "name": "ipython",
    "version": 3
   },
   "file_extension": ".py",
   "mimetype": "text/x-python",
   "name": "python",
   "nbconvert_exporter": "python",
   "pygments_lexer": "ipython3",
   "version": "3.7.3"
  }
 },
 "nbformat": 4,
 "nbformat_minor": 2
}
