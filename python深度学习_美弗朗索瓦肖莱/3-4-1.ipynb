{
 "cells": [
  {
   "cell_type": "code",
   "execution_count": 1,
   "metadata": {},
   "outputs": [
    {
     "name": "stderr",
     "output_type": "stream",
     "text": [
      "Using TensorFlow backend.\n"
     ]
    }
   ],
   "source": [
    "from keras.datasets import imdb\n",
    "\n",
    "(train_data,train_labels),(test_data,test_labels) = imdb.load_data(num_words=10000)"
   ]
  },
  {
   "cell_type": "code",
   "execution_count": 2,
   "metadata": {},
   "outputs": [
    {
     "data": {
      "text/plain": [
       "1"
      ]
     },
     "execution_count": 2,
     "metadata": {},
     "output_type": "execute_result"
    }
   ],
   "source": [
    "train_labels[0]"
   ]
  },
  {
   "cell_type": "code",
   "execution_count": 3,
   "metadata": {},
   "outputs": [
    {
     "data": {
      "text/plain": [
       "9999"
      ]
     },
     "execution_count": 3,
     "metadata": {},
     "output_type": "execute_result"
    }
   ],
   "source": [
    "max([max(sequence) for sequence in train_data])"
   ]
  },
  {
   "cell_type": "code",
   "execution_count": 4,
   "metadata": {},
   "outputs": [
    {
     "data": {
      "text/plain": [
       "\"? this film was just brilliant casting location scenery story direction everyone's really suited the part they played and you could just imagine being there robert ? is an amazing actor and now the same being director ? father came from the same scottish island as myself so i loved the fact there was a real connection with this film the witty remarks throughout the film were great it was just brilliant so much that i bought the film as soon as it was released for ? and would recommend it to everyone to watch and the fly fishing was amazing really cried at the end it was so sad and you know what they say if you cry at a film it must have been good and this definitely was also ? to the two little boy's that played the ? of norman and paul they were just brilliant children are often left out of the ? list i think because the stars that play them all grown up are such a big profile for the whole film but these children are amazing and should be praised for what they have done don't you think the whole story was so lovely because it was true and was someone's life after all that was shared with us all\""
      ]
     },
     "execution_count": 4,
     "metadata": {},
     "output_type": "execute_result"
    }
   ],
   "source": [
    "word_index = imdb.get_word_index() #word_index 是一个将单词映射为整数索引的字典\n",
    "reverse_word_index=dict( \n",
    "        [(value,key) for (key,value) in word_index.items()])#键值颠倒，将整数索引映射为单词\n",
    "\n",
    "#将评论解码。注意：索引减去3，因为0、1、2是\"padding\"(填充)、“start of sequence”（序列开始)、\"unknown\"（未知词）分别保留的索引\n",
    "decoded_review = ' '.join([reverse_word_index.get(i-3,'?') for i in train_data[0]])\n",
    "\n",
    "decoded_review\n"
   ]
  },
  {
   "cell_type": "code",
   "execution_count": 5,
   "metadata": {},
   "outputs": [
    {
     "data": {
      "text/plain": [
       "array([0., 1., 1., ..., 0., 0., 0.])"
      ]
     },
     "execution_count": 5,
     "metadata": {},
     "output_type": "execute_result"
    }
   ],
   "source": [
    "import numpy as np\n",
    "\n",
    "def vectorize_sequences(sequences,dimension=10000):\n",
    "    results = np.zeros((len(sequences),dimension))\n",
    "    for i, sequences in enumerate(sequences):\n",
    "        results[i,sequences] = 1.  # 将results[i]的指定索引设为1\n",
    "    return results\n",
    "\n",
    "x_train = vectorize_sequences(train_data) #将训练数据向量化\n",
    "x_test = vectorize_sequences(test_data) #将测试数据向量化\n",
    "\n",
    "x_train[0]\n"
   ]
  },
  {
   "cell_type": "code",
   "execution_count": 6,
   "metadata": {},
   "outputs": [],
   "source": [
    "y_train = np.asanyarray(train_labels).astype('float32')\n",
    "y_test = np.asarray(test_labels).astype('float32')"
   ]
  },
  {
   "cell_type": "code",
   "execution_count": 7,
   "metadata": {},
   "outputs": [
    {
     "name": "stdout",
     "output_type": "stream",
     "text": [
      "WARNING:tensorflow:From d:\\Anaconda3\\lib\\site-packages\\tensorflow\\python\\framework\\op_def_library.py:263: colocate_with (from tensorflow.python.framework.ops) is deprecated and will be removed in a future version.\n",
      "Instructions for updating:\n",
      "Colocations handled automatically by placer.\n"
     ]
    }
   ],
   "source": [
    "from keras import models\n",
    "from keras import layers\n",
    "\n",
    "model = models.Sequential()\n",
    "model.add(layers.Dense(16,activation='relu',input_shape=(10000,)))\n",
    "model.add(layers.Dense(16,activation='relu'))\n",
    "model.add(layers.Dense(1,activation='sigmoid'))"
   ]
  },
  {
   "cell_type": "code",
   "execution_count": 8,
   "metadata": {},
   "outputs": [],
   "source": [
    "model.compile(optimizer='rmsprop',loss='binary_crossentropy',metrics=['accuracy'])"
   ]
  },
  {
   "cell_type": "code",
   "execution_count": 9,
   "metadata": {},
   "outputs": [],
   "source": [
    "from keras import optimizers\n",
    "from keras import losses\n",
    "from keras import metrics\n",
    "\n",
    "model.compile(optimizer=optimizers.RMSprop(lr=0.001),\n",
    "             loss=losses.binary_crossentropy,\n",
    "             metrics=[metrics.binary_accuracy])"
   ]
  },
  {
   "cell_type": "code",
   "execution_count": 21,
   "metadata": {},
   "outputs": [],
   "source": [
    "#train_data"
   ]
  },
  {
   "cell_type": "code",
   "execution_count": 11,
   "metadata": {},
   "outputs": [],
   "source": [
    "x_val = x_train[:10000]\n",
    "partial_x_train = x_train[10000:]\n",
    "\n",
    "y_val = y_train[:10000]\n",
    "partial_y_train = y_train[10000:]"
   ]
  },
  {
   "cell_type": "code",
   "execution_count": 55,
   "metadata": {},
   "outputs": [
    {
     "name": "stdout",
     "output_type": "stream",
     "text": [
      "Train on 15000 samples, validate on 10000 samples\n",
      "Epoch 1/20\n",
      "15000/15000 [==============================] - 3s 216us/step - loss: 0.5769 - acc: 0.7538 - val_loss: 0.4668 - val_acc: 0.8494\n",
      "Epoch 2/20\n",
      "15000/15000 [==============================] - 2s 162us/step - loss: 0.3777 - acc: 0.8923 - val_loss: 0.3583 - val_acc: 0.8785\n",
      "Epoch 3/20\n",
      "15000/15000 [==============================] - 2s 163us/step - loss: 0.2676 - acc: 0.9208 - val_loss: 0.3145 - val_acc: 0.8760\n",
      "Epoch 4/20\n",
      "15000/15000 [==============================] - 2s 163us/step - loss: 0.2065 - acc: 0.9381 - val_loss: 0.2797 - val_acc: 0.8890\n",
      "Epoch 5/20\n",
      "15000/15000 [==============================] - 2s 163us/step - loss: 0.1680 - acc: 0.9485 - val_loss: 0.2771 - val_acc: 0.8875\n",
      "Epoch 6/20\n",
      "15000/15000 [==============================] - 2s 162us/step - loss: 0.1381 - acc: 0.9591 - val_loss: 0.2838 - val_acc: 0.8868\n",
      "Epoch 7/20\n",
      "15000/15000 [==============================] - 2s 164us/step - loss: 0.1144 - acc: 0.9663 - val_loss: 0.2982 - val_acc: 0.8837\n",
      "Epoch 8/20\n",
      "15000/15000 [==============================] - 2s 164us/step - loss: 0.0985 - acc: 0.9725 - val_loss: 0.3318 - val_acc: 0.8755\n",
      "Epoch 9/20\n",
      "15000/15000 [==============================] - 2s 165us/step - loss: 0.0818 - acc: 0.9783 - val_loss: 0.3385 - val_acc: 0.8760\n",
      "Epoch 10/20\n",
      "15000/15000 [==============================] - 2s 162us/step - loss: 0.0686 - acc: 0.9829 - val_loss: 0.3484 - val_acc: 0.8810\n",
      "Epoch 11/20\n",
      "15000/15000 [==============================] - 2s 164us/step - loss: 0.0580 - acc: 0.9866 - val_loss: 0.3745 - val_acc: 0.8744\n",
      "Epoch 12/20\n",
      "15000/15000 [==============================] - 3s 176us/step - loss: 0.0490 - acc: 0.9889 - val_loss: 0.4008 - val_acc: 0.8785\n",
      "Epoch 13/20\n",
      "15000/15000 [==============================] - 2s 164us/step - loss: 0.0413 - acc: 0.9917 - val_loss: 0.4285 - val_acc: 0.8770\n",
      "Epoch 14/20\n",
      "15000/15000 [==============================] - 2s 165us/step - loss: 0.0328 - acc: 0.9941 - val_loss: 0.4532 - val_acc: 0.8764\n",
      "Epoch 15/20\n",
      "15000/15000 [==============================] - 2s 164us/step - loss: 0.0282 - acc: 0.9949 - val_loss: 0.4733 - val_acc: 0.8756\n",
      "Epoch 16/20\n",
      "15000/15000 [==============================] - 2s 166us/step - loss: 0.0212 - acc: 0.9973 - val_loss: 0.4958 - val_acc: 0.8715\n",
      "Epoch 17/20\n",
      "15000/15000 [==============================] - 2s 165us/step - loss: 0.0174 - acc: 0.9971 - val_loss: 0.5422 - val_acc: 0.8710\n",
      "Epoch 18/20\n",
      "15000/15000 [==============================] - 2s 164us/step - loss: 0.0117 - acc: 0.9989 - val_loss: 0.5842 - val_acc: 0.8602\n",
      "Epoch 19/20\n",
      "15000/15000 [==============================] - 2s 165us/step - loss: 0.0100 - acc: 0.9990 - val_loss: 0.6953 - val_acc: 0.8608\n",
      "Epoch 20/20\n",
      "15000/15000 [==============================] - 2s 164us/step - loss: 0.0107 - acc: 0.9985 - val_loss: 0.6229 - val_acc: 0.8671\n"
     ]
    }
   ],
   "source": [
    "model = models.Sequential()\n",
    "model.add(layers.Dense(16,activation='relu',input_shape=(10000,)))\n",
    "model.add(layers.Dense(16,activation='relu'))\n",
    "model.add(layers.Dense(1,activation='sigmoid'))\n",
    "\n",
    "model.compile(optimizer='rmsprop',\n",
    "             loss='binary_crossentropy',\n",
    "             metrics=['acc'])\n",
    "\n",
    "history = model.fit(partial_x_train,\n",
    "                   partial_y_train,\n",
    "                   epochs=20,\n",
    "                   batch_size=512,\n",
    "                   validation_data=(x_val,y_val))"
   ]
  },
  {
   "cell_type": "code",
   "execution_count": 56,
   "metadata": {},
   "outputs": [
    {
     "data": {
      "text/plain": [
       "dict_keys(['val_loss', 'val_acc', 'loss', 'acc'])"
      ]
     },
     "execution_count": 56,
     "metadata": {},
     "output_type": "execute_result"
    }
   ],
   "source": [
    "history_dict = history.history\n",
    "\n",
    "loss_values = history_dict['loss']\n",
    "val_loss_values = history_dict['val_loss']\n",
    "\n",
    "epochs = range(1,len(loss_values)+1)\n",
    "history_dict.keys()"
   ]
  },
  {
   "cell_type": "code",
   "execution_count": 57,
   "metadata": {},
   "outputs": [
    {
     "data": {
      "image/png": "[encoded data removed]",
      "text/plain": [
       "<Figure size 432x288 with 1 Axes>"
      ]
     },
     "metadata": {
      "needs_background": "light"
     },
     "output_type": "display_data"
    }
   ],
   "source": [
    "import matplotlib.pyplot as plt\n",
    "\n",
    "%matplotlib inline\n",
    "\n",
    "\n",
    "\n",
    "plt.plot(epochs,loss_values,'bo',label='Training loss') #'bo'表示蓝色圆点\n",
    "plt.plot(epochs,val_loss_values,'b',label='Validation loss') #'b'表示蓝色实线\n",
    "plt.title('Training and validation loss')\n",
    "plt.xlabel('Epochs')\n",
    "plt.ylabel('Loss')\n",
    "plt.legend()\n",
    "\n",
    "plt.show()"
   ]
  },
  {
   "cell_type": "code",
   "execution_count": 58,
   "metadata": {},
   "outputs": [
    {
     "data": {
      "image/png": "[encoded data removed]",
      "text/plain": [
       "<Figure size 432x288 with 1 Axes>"
      ]
     },
     "metadata": {
      "needs_background": "light"
     },
     "output_type": "display_data"
    }
   ],
   "source": [
    "plt.clf()  #清空图像\n",
    "\n",
    "acc = history_dict['acc']\n",
    "val_acc = history_dict['val_acc']\n",
    "\n",
    "plt.plot(epochs,acc,'bo', label='Training acc')\n",
    "plt.plot(epochs,val_acc, 'b', label='Validation acc')\n",
    "plt.title('Training and validation accuracy')\n",
    "plt.xlabel('Epochs')\n",
    "plt.ylabel('Accuracy')\n",
    "plt.legend()\n",
    "\n",
    "plt.show()"
   ]
  },
  {
   "cell_type": "code",
   "execution_count": 19,
   "metadata": {},
   "outputs": [
    {
     "name": "stdout",
     "output_type": "stream",
     "text": [
      "Epoch 1/4\n",
      "25000/25000 [==============================] - 5s 203us/step - loss: 0.4465 - acc: 0.8244\n",
      "Epoch 2/4\n",
      "25000/25000 [==============================] - 3s 117us/step - loss: 0.2556 - acc: 0.9101\n",
      "Epoch 3/4\n",
      "25000/25000 [==============================] - 3s 107us/step - loss: 0.1969 - acc: 0.9302\n",
      "Epoch 4/4\n",
      "25000/25000 [==============================] - 3s 104us/step - loss: 0.1645 - acc: 0.9422\n",
      "25000/25000 [==============================] - 9s 345us/step\n"
     ]
    },
    {
     "data": {
      "text/plain": [
       "[0.31699040955543517, 0.87528]"
      ]
     },
     "execution_count": 19,
     "metadata": {},
     "output_type": "execute_result"
    }
   ],
   "source": [
    "model = models.Sequential()\n",
    "model.add(layers.Dense(16,activation='relu',input_shape=(10000,)))\n",
    "model.add(layers.Dense(16,activation='relu'))\n",
    "model.add(layers.Dense(1,activation='sigmoid'))\n",
    "\n",
    "model.compile(optimizer='rmsprop',\n",
    "             loss='binary_crossentropy',\n",
    "             metrics=['accuracy'])\n",
    "\n",
    "model.fit(x_train,y_train,epochs=4,batch_size=512)\n",
    "results = model.evaluate(x_test,y_test)\n",
    "\n",
    "results"
   ]
  },
  {
   "cell_type": "code",
   "execution_count": 20,
   "metadata": {},
   "outputs": [
    {
     "data": {
      "text/plain": [
       "array([[0.29781196],\n",
       "       [0.9996749 ],\n",
       "       [0.93921053],\n",
       "       ...,\n",
       "       [0.16541392],\n",
       "       [0.15662622],\n",
       "       [0.7538595 ]], dtype=float32)"
      ]
     },
     "execution_count": 20,
     "metadata": {},
     "output_type": "execute_result"
    }
   ],
   "source": [
    "model.predict(x_test)"
   ]
  },
  {
   "cell_type": "code",
   "execution_count": 68,
   "metadata": {},
   "outputs": [
    {
     "name": "stdout",
     "output_type": "stream",
     "text": [
      "Train on 15000 samples, validate on 10000 samples\n",
      "Epoch 1/20\n",
      "15000/15000 [==============================] - 3s 219us/step - loss: 0.5011 - acc: 0.7892 - val_loss: 0.3811 - val_acc: 0.8628\n",
      "Epoch 2/20\n",
      "15000/15000 [==============================] - 2s 164us/step - loss: 0.3035 - acc: 0.9020 - val_loss: 0.3230 - val_acc: 0.8756\n",
      "Epoch 3/20\n",
      "15000/15000 [==============================] - 2s 164us/step - loss: 0.2219 - acc: 0.9285 - val_loss: 0.3128 - val_acc: 0.8710\n",
      "Epoch 4/20\n",
      "15000/15000 [==============================] - 2s 164us/step - loss: 0.1774 - acc: 0.9417 - val_loss: 0.2831 - val_acc: 0.8868\n",
      "Epoch 5/20\n",
      "15000/15000 [==============================] - 2s 164us/step - loss: 0.1433 - acc: 0.9545 - val_loss: 0.2779 - val_acc: 0.8900\n",
      "Epoch 6/20\n",
      "15000/15000 [==============================] - 2s 163us/step - loss: 0.1160 - acc: 0.9641 - val_loss: 0.2900 - val_acc: 0.8865\n",
      "Epoch 7/20\n",
      "15000/15000 [==============================] - 2s 165us/step - loss: 0.0982 - acc: 0.9703 - val_loss: 0.3075 - val_acc: 0.8844\n",
      "Epoch 8/20\n",
      "15000/15000 [==============================] - 3s 167us/step - loss: 0.0764 - acc: 0.9802 - val_loss: 0.3419 - val_acc: 0.8794\n",
      "Epoch 9/20\n",
      "15000/15000 [==============================] - 2s 163us/step - loss: 0.0655 - acc: 0.9827 - val_loss: 0.3544 - val_acc: 0.8775\n",
      "Epoch 10/20\n",
      "15000/15000 [==============================] - 2s 166us/step - loss: 0.0499 - acc: 0.9885 - val_loss: 0.3808 - val_acc: 0.8761\n",
      "Epoch 11/20\n",
      "15000/15000 [==============================] - 3s 182us/step - loss: 0.0405 - acc: 0.9905 - val_loss: 0.4173 - val_acc: 0.8757\n",
      "Epoch 12/20\n",
      "15000/15000 [==============================] - 3s 169us/step - loss: 0.0315 - acc: 0.9935 - val_loss: 0.4386 - val_acc: 0.8746\n",
      "Epoch 13/20\n",
      "15000/15000 [==============================] - 2s 166us/step - loss: 0.0241 - acc: 0.9959 - val_loss: 0.5512 - val_acc: 0.8577\n",
      "Epoch 14/20\n",
      "15000/15000 [==============================] - 3s 171us/step - loss: 0.0206 - acc: 0.9966 - val_loss: 0.5029 - val_acc: 0.8736\n",
      "Epoch 15/20\n",
      "15000/15000 [==============================] - 3s 184us/step - loss: 0.0153 - acc: 0.9978 - val_loss: 0.5289 - val_acc: 0.8685\n",
      "Epoch 16/20\n",
      "15000/15000 [==============================] - 3s 173us/step - loss: 0.0105 - acc: 0.9993 - val_loss: 0.5570 - val_acc: 0.8686\n",
      "Epoch 17/20\n",
      "15000/15000 [==============================] - 2s 166us/step - loss: 0.0084 - acc: 0.9995 - val_loss: 0.6151 - val_acc: 0.8691\n",
      "Epoch 18/20\n",
      "15000/15000 [==============================] - 3s 168us/step - loss: 0.0062 - acc: 0.9998 - val_loss: 0.6258 - val_acc: 0.8665\n",
      "Epoch 19/20\n",
      "15000/15000 [==============================] - 3s 189us/step - loss: 0.0071 - acc: 0.9985 - val_loss: 0.6579 - val_acc: 0.8652\n",
      "Epoch 20/20\n",
      "15000/15000 [==============================] - 3s 169us/step - loss: 0.0026 - acc: 0.9999 - val_loss: 0.6955 - val_acc: 0.8629\n"
     ]
    }
   ],
   "source": [
    "model32 = models.Sequential()\n",
    "model32.add(layers.Dense(16, activation='relu', input_shape=(10000,)))\n",
    "#model32.add(layers.Dense(16, activation='tanh' ))\n",
    "model32.add(layers.Dense(16, activation='relu' ))\n",
    "model32.add(layers.Dense(1, activation='sigmoid'))\n",
    "\n",
    "model32.compile(optimizer='rmsprop',\n",
    "             loss='binary_crossentropy',\n",
    "             metrics=['accuracy'])\n",
    "history32 = model32.fit(partial_x_train, partial_y_train, epochs=20, batch_size=512, validation_data=(x_val,y_val))\n"
   ]
  },
  {
   "cell_type": "code",
   "execution_count": 69,
   "metadata": {},
   "outputs": [
    {
     "data": {
      "image/png": "[encoded data removed]",
      "text/plain": [
       "<Figure size 432x288 with 1 Axes>"
      ]
     },
     "metadata": {
      "needs_background": "light"
     },
     "output_type": "display_data"
    }
   ],
   "source": [
    "history32_dict = history32.history\n",
    "\n",
    "plt.plot(epochs, history_dict['loss'],'bo', label='Training loss')\n",
    "plt.plot(epochs, history_dict['val_loss'],'b', label='Valication loss')\n",
    "plt.plot(epochs, history32_dict['loss'], 'ro', label='32 Training loss')\n",
    "plt.plot(epochs, history32_dict['val_loss'],'r', label='32 Valication loss')\n",
    "\n",
    "plt.title('Training and validation loss')\n",
    "plt.xlabel('Epochs')\n",
    "plt.ylabel('Loss')\n",
    "plt.legend()\n",
    "\n",
    "plt.show()"
   ]
  },
  {
   "cell_type": "code",
   "execution_count": 34,
   "metadata": {},
   "outputs": [
    {
     "data": {
      "text/plain": [
       "dict_keys(['loss', 'acc'])"
      ]
     },
     "execution_count": 34,
     "metadata": {},
     "output_type": "execute_result"
    }
   ],
   "source": [
    "history32_dict.keys()"
   ]
  },
  {
   "cell_type": "code",
   "execution_count": 35,
   "metadata": {},
   "outputs": [
    {
     "data": {
      "text/plain": [
       "dict_keys(['val_loss', 'val_acc', 'loss', 'acc'])"
      ]
     },
     "execution_count": 35,
     "metadata": {},
     "output_type": "execute_result"
    }
   ],
   "source": [
    "history_dict.keys()"
   ]
  },
  {
   "cell_type": "code",
   "execution_count": 67,
   "metadata": {},
   "outputs": [
    {
     "data": {
      "image/png": "[encoded data removed]",
      "text/plain": [
       "<Figure size 432x288 with 1 Axes>"
      ]
     },
     "metadata": {
      "needs_background": "light"
     },
     "output_type": "display_data"
    }
   ],
   "source": [
    "plt.clf()\n",
    "\n",
    "plt.plot(epochs, history_dict['acc'],'bo', label='Training acc')\n",
    "plt.plot(epochs, history_dict['val_acc'],'b', label='Valication acc')\n",
    "plt.plot(epochs, history32_dict['acc'], 'ro', label='32 Training acc')\n",
    "plt.plot(epochs, history32_dict['val_acc'],'r', label='32 Valication acc')\n",
    "\n",
    "plt.title('Training and validation accuracy')\n",
    "plt.xlabel('Epochs')\n",
    "plt.ylabel('Accuracy')\n",
    "plt.legend()\n",
    "\n",
    "plt.show()"
   ]
  },
  {
   "cell_type": "code",
   "execution_count": null,
   "metadata": {},
   "outputs": [],
   "source": []
  }
 ],
 "metadata": {
  "kernelspec": {
   "display_name": "Python 3",
   "language": "python",
   "name": "python3"
  },
  "language_info": {
   "codemirror_mode": {
    "name": "ipython",
    "version": 3
   },
   "file_extension": ".py",
   "mimetype": "text/x-python",
   "name": "python",
   "nbconvert_exporter": "python",
   "pygments_lexer": "ipython3",
   "version": "3.7.3"
  }
 },
 "nbformat": 4,
 "nbformat_minor": 2
}
