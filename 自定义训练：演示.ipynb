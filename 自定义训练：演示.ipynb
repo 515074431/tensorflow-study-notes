{
 "cells": [
  {
   "cell_type": "markdown",
   "metadata": {},
   "source": [
    "本指南使用机器学习按品种对鸢尾花进行分类。它利用TensorFlow的Eager Execution来执行以下操作：1。构建模型，2。使用样本数据训练该模型，以及3.利用该模型对未知数据进行预测。\n",
    "\n",
    "#### TensorFlow编程\n",
    "本指南采用了以下高级TensorFlow概念：\n",
    "\n",
    "- 启用Eager Execution开发环境，\n",
    "- 使用数据集API导入数据，\n",
    "- 使用TensorFlow的Keras API构建模型和层。\n",
    "\n",
    "本教程采用了与许多TensorFlow程序相似的结构：\n",
    "\n",
    "1. 导入和解析数据集。\n",
    "2. 选择模型类型。\n",
    "3. 训练模型。\n",
    "4. 评估模型的效果。\n",
    "5. 使用经过训练的模型进行预测。\n",
    "\n",
    "#### 设置程序\n",
    "\n",
    " 配置导入和Eager Execution\n",
    " \n",
    "导入所需的Python模块（包括TensorFlow），然后针对此程序启用Eager Execution。借助Eager Execution，TensorFlow会立即评估各项操作，并返回具体的值，而不是创建稍后执行的计算图。如果您习惯使用REPL或python交互控制台，对于Eager Execution您会用起来得心应手.TensorFlow 1.8及以上版本中提供了Eager Execution。\n",
    "\n",
    "Eager Execution一旦启用，便无法在同一程序中停用。如需了解详情，请参阅Eager Execution指南。"
   ]
  },
  {
   "cell_type": "code",
   "execution_count": 1,
   "metadata": {},
   "outputs": [
    {
     "name": "stdout",
     "output_type": "stream",
     "text": [
      "TensorFlow version :1.13.1\n",
      "Eager execution:True\n"
     ]
    }
   ],
   "source": [
    "from __future__ import absolute_import,division,print_function\n",
    "\n",
    "import os\n",
    "import matplotlib.pyplot as plt\n",
    "\n",
    "import tensorflow as tf\n",
    "import tensorflow.contrib.eager as tfe\n",
    "\n",
    "tf.enable_eager_execution()\n",
    "\n",
    "print(\"TensorFlow version :{}\".format(tf.VERSION))\n",
    "print(\"Eager execution:{}\".format(tf.executing_eagerly()))"
   ]
  },
  {
   "cell_type": "markdown",
   "metadata": {},
   "source": [
    "#### 鸢尾花分类问题\n",
    "想象一下，您是一名植物学家，正在寻找一种能够对所发现的每株鸢尾花进行自动归类的方法。机器学习可提供多种从统计学上分类花卉的算法。例如，一个复杂的机器学习程序可以根据照片对花卉进行分类。我们的要求并不高 - 我们将根据鸢尾花花萼和花瓣的长度和宽度对其进行分类。\n",
    "\n",
    "鸢尾属约有300个品种，但我们的程序将仅对下列三个品种进行分类：\n",
    "\n",
    "- 山鸢尾\n",
    "- 维吉尼亚鸢尾\n",
    "- 变色鸢尾\n",
    "***\n",
    "![山鸢尾](https://tensorflow.google.cn/images/iris_three_species.jpg)\n",
    "![维吉尼亚鸢尾](https://tensorflow.google.cn/images/iris_three_species.jpg)\n",
    "![变色鸢尾](https://tensorflow.google.cn/images/iris_three_species.jpg)\n",
    "***\n",
    "三个鸢尾花品种的花瓣几何对比：山鸢尾，维吉尼亚鸢尾和变色鸢尾\n",
    "***\n",
    " \n",
    "幸运的是，有人已经创建了一个包含120株鸢尾花的数据集（其中有花萼和花瓣的测量值）。这是一个在入门级机器学习分类问题中经常使用的经典数据集。\n",
    "\n",
    "#### 导入和解析训练数据集\n",
    "下载数据集文件并将其转换为可供此Python程序使用的结构。\n",
    "\n",
    "#### 下载数据集\n",
    "使用tf.keras.utils.get_file函数下载训练数据集文件。该函数会返回下载文件的文件路径。"
   ]
  },
  {
   "cell_type": "code",
   "execution_count": 3,
   "metadata": {},
   "outputs": [
    {
     "name": "stdout",
     "output_type": "stream",
     "text": [
      "Downloading data from http://download.tensorflow.org/data/iris_training.csv\n",
      "8192/2194 [================================================================================================================] - 0s 0us/step\n",
      "Local copy of the dataset file:C:\\Users\\fangmw\\.keras\\datasets\\iris_training.csv\n"
     ]
    }
   ],
   "source": [
    " train_dataset_url = \"http://download.tensorflow.org/data/iris_training.csv\"\n",
    "# train_dataset_url = \"./data/iris_training.csv\"\n",
    "\n",
    "train_dataset_fp = tf.keras.utils.get_file(fname=os.path.basename(train_dataset_url),\n",
    "                                          origin=train_dataset_url)\n",
    "\n",
    "print(\"Local copy of the dataset file:{}\".format(train_dataset_fp))"
   ]
  },
  {
   "cell_type": "code",
   "execution_count": 4,
   "metadata": {},
   "outputs": [
    {
     "name": "stdout",
     "output_type": "stream",
     "text": [
      "Features:['sepal_length', 'sepal_width', 'petal_length', 'petal_width']\n",
      "Label:species\n"
     ]
    }
   ],
   "source": [
    "# column order in CSV file\n",
    "column_names = ['sepal_length', 'sepal_width', 'petal_length', 'petal_width', 'species']\n",
    "\n",
    "feature_names = column_names[:-1]\n",
    "label_name = column_names[-1]\n",
    "\n",
    "print(\"Features:{}\".format(feature_names))\n",
    "print(\"Label:{}\".format(label_name))"
   ]
  },
  {
   "cell_type": "code",
   "execution_count": 5,
   "metadata": {},
   "outputs": [],
   "source": [
    "class_names = ['Iris setosa', 'Iris versicolor', 'Iris virginica']"
   ]
  },
  {
   "cell_type": "markdown",
   "metadata": {},
   "source": [
    "#### 创建一个 tf.data.Dataset\n",
    "TensorFlow的数据集API可处理在向模型加载数据时遇到的许多常见情况。这是一种高阶API，用于读取数据并将其转换为可供训练使用的格式。如需了解详情，请参阅数据集快速入门指南。\n",
    "\n",
    "由于数据集是CSV格式的文本文件，请使用make_csv_dataset函数将数据解析为合适的格式。由于此函数为训练模型生成数据，默认行为是对数据进行随机处理（`shuffle=True, shuffle_buffer_size=10000`），并且无限期重复数据集（`num_epochs=None`） 。我们还设置了的`batch_size`参数。"
   ]
  },
  {
   "cell_type": "code",
   "execution_count": 6,
   "metadata": {},
   "outputs": [
    {
     "name": "stdout",
     "output_type": "stream",
     "text": [
      "WARNING:tensorflow:From <ipython-input-6-53ae7c140192>:8: make_csv_dataset (from tensorflow.contrib.data.python.ops.readers) is deprecated and will be removed in a future version.\n",
      "Instructions for updating:\n",
      "Use `tf.data.experimental.make_csv_dataset(...)`.\n"
     ]
    }
   ],
   "source": [
    "batch_size = 32\n",
    "\n",
    "train_dataset = tf.contrib.data.make_csv_dataset(\n",
    "    train_dataset_fp,\n",
    "    batch_size,\n",
    "    column_names=column_names,\n",
    "    label_name=label_name,\n",
    "    num_epochs=1\n",
    ")"
   ]
  },
  {
   "cell_type": "markdown",
   "metadata": {},
   "source": [
    "`make_csv_dataset`报道查看函数`(features, label)`对的`tf.data.Dataset`，其中`features`的英文一个字典搜索：`{'feature_name': value}`\n",
    "\n",
    "启用Eager Execution后，这些`Dataset`对象便可迭代。我们来看看一批特征："
   ]
  },
  {
   "cell_type": "code",
   "execution_count": 7,
   "metadata": {},
   "outputs": [
    {
     "name": "stdout",
     "output_type": "stream",
     "text": [
      "WARNING:tensorflow:From d:\\Anaconda3\\lib\\site-packages\\tensorflow\\python\\data\\ops\\iterator_ops.py:532: colocate_with (from tensorflow.python.framework.ops) is deprecated and will be removed in a future version.\n",
      "Instructions for updating:\n",
      "Colocations handled automatically by placer.\n"
     ]
    },
    {
     "data": {
      "text/plain": [
       "OrderedDict([('sepal_length',\n",
       "              <tf.Tensor: id=58, shape=(32,), dtype=float32, numpy=\n",
       "              array([6.3, 6. , 6.4, 4.7, 6.3, 4.4, 6.3, 6.7, 5.8, 7.4, 6.5, 6.4, 4.9,\n",
       "                     5. , 7.7, 6.4, 6.5, 6.7, 5.5, 5.7, 7. , 6.5, 5.4, 6.9, 6.3, 6.9,\n",
       "                     5. , 5.1, 4.6, 6.7, 5.2, 4.5], dtype=float32)>),\n",
       "             ('sepal_width',\n",
       "              <tf.Tensor: id=59, shape=(32,), dtype=float32, numpy=\n",
       "              array([2.7, 3. , 2.8, 3.2, 2.5, 3. , 3.4, 3.1, 2.6, 2.8, 3. , 3.1, 3. ,\n",
       "                     3.3, 3.8, 3.2, 2.8, 3.1, 3.5, 2.8, 3.2, 3.2, 3.4, 3.1, 3.3, 3.2,\n",
       "                     3.6, 2.5, 3.1, 3. , 3.4, 2.3], dtype=float32)>),\n",
       "             ('petal_length',\n",
       "              <tf.Tensor: id=56, shape=(32,), dtype=float32, numpy=\n",
       "              array([4.9, 4.8, 5.6, 1.6, 5. , 1.3, 5.6, 4.4, 4. , 6.1, 5.8, 5.5, 1.4,\n",
       "                     1.4, 6.7, 5.3, 4.6, 5.6, 1.3, 4.1, 4.7, 5.1, 1.5, 4.9, 6. , 5.7,\n",
       "                     1.4, 3. , 1.5, 5.2, 1.4, 1.3], dtype=float32)>),\n",
       "             ('petal_width',\n",
       "              <tf.Tensor: id=57, shape=(32,), dtype=float32, numpy=\n",
       "              array([1.8, 1.8, 2.2, 0.2, 1.9, 0.2, 2.4, 1.4, 1.2, 1.9, 2.2, 1.8, 0.2,\n",
       "                     0.2, 2.2, 2.3, 1.5, 2.4, 0.2, 1.3, 1.4, 2. , 0.4, 1.5, 2.5, 2.3,\n",
       "                     0.2, 1.1, 0.2, 2.3, 0.2, 0.3], dtype=float32)>)])"
      ]
     },
     "execution_count": 7,
     "metadata": {},
     "output_type": "execute_result"
    }
   ],
   "source": [
    "features,labels = next(iter(train_dataset))\n",
    "features"
   ]
  },
  {
   "cell_type": "markdown",
   "metadata": {},
   "source": [
    "请注意，类似特征会归为一组，即分为一批。每个样本行的字段都会附加到相应的特征数组中。更改batch_size柯林斯设置存储在这些特征数组中的样本数。\n",
    "\n",
    "绘制该批次中的几个特征后，就会开始看到一些集群现象："
   ]
  },
  {
   "cell_type": "code",
   "execution_count": 10,
   "metadata": {},
   "outputs": [
    {
     "data": {
      "text/plain": [
       "Text(0, 0.5, 'Sepal length')"
      ]
     },
     "execution_count": 10,
     "metadata": {},
     "output_type": "execute_result"
    },
    {
     "data": {
      "image/png": "[encoded data removed]",
      "text/plain": [
       "<Figure size 432x288 with 1 Axes>"
      ]
     },
     "metadata": {
      "needs_background": "light"
     },
     "output_type": "display_data"
    }
   ],
   "source": [
    "plt.scatter(features['petal_length'],\n",
    "           features['sepal_length'],\n",
    "           c=labels,\n",
    "           cmap='viridis')\n",
    "\n",
    "plt.xlabel(\"Petal length\")\n",
    "plt.ylabel(\"Sepal length\")"
   ]
  },
  {
   "cell_type": "markdown",
   "metadata": {},
   "source": [
    "要简化模型构建步骤，请一个创建³³以函数将特征字典搜索重新打包为形状为`(batch_size, num_features)`的单个数组。\n",
    "\n",
    "此函数使用tf.stack方法，该方法从张量列表中获取值，并创建指定维度的组合张量。"
   ]
  },
  {
   "cell_type": "code",
   "execution_count": 11,
   "metadata": {},
   "outputs": [],
   "source": [
    "def pack_features_vector(features,labels):\n",
    "    features = tf.stack(list(features.values()),axis=1)\n",
    "    return features,labels"
   ]
  },
  {
   "cell_type": "markdown",
   "metadata": {},
   "source": [
    "使用然后tf.data.Dataset.map方法将每个(features,label)对的features打包到训练数据集中："
   ]
  },
  {
   "cell_type": "code",
   "execution_count": 12,
   "metadata": {},
   "outputs": [],
   "source": [
    "train_dataset = train_dataset.map(pack_features_vector)"
   ]
  },
  {
   "cell_type": "markdown",
   "metadata": {},
   "source": [
    "Dataset的特点元素现在是形状为`(batch_size, num_features)`的数组。我们来看看前几个样本："
   ]
  },
  {
   "cell_type": "code",
   "execution_count": 13,
   "metadata": {},
   "outputs": [
    {
     "name": "stdout",
     "output_type": "stream",
     "text": [
      "tf.Tensor(\n",
      "[[6.3 3.3 6.  2.5]\n",
      " [4.7 3.2 1.6 0.2]\n",
      " [6.7 3.1 4.4 1.4]\n",
      " [6.  3.  4.8 1.8]\n",
      " [4.9 3.  1.4 0.2]], shape=(5, 4), dtype=float32)\n"
     ]
    }
   ],
   "source": [
    "features,labels = next(iter(train_dataset))\n",
    "print(features[:5])"
   ]
  },
  {
   "cell_type": "code",
   "execution_count": 14,
   "metadata": {},
   "outputs": [],
   "source": [
    "model = tf.keras.Sequential([\n",
    "    tf.keras.layers.Dense(10,activation=tf.nn.relu,input_shape=(4,)),\n",
    "    tf.keras.layers.Dense(10,activation=tf.nn.relu),\n",
    "    tf.keras.layers.Dense(3)\n",
    "])"
   ]
  },
  {
   "cell_type": "code",
   "execution_count": 15,
   "metadata": {},
   "outputs": [
    {
     "data": {
      "text/plain": [
       "<tf.Tensor: id=228, shape=(5, 3), dtype=float32, numpy=\n",
       "array([[-0.307414  ,  0.02205812,  0.0772928 ],\n",
       "       [-0.50870484, -0.7881248 , -0.26382786],\n",
       "       [-0.20895942, -0.29517433, -0.16497338],\n",
       "       [-0.15129359, -0.06592645, -0.06951092],\n",
       "       [-0.47426808, -0.880097  , -0.23739588]], dtype=float32)>"
      ]
     },
     "execution_count": 15,
     "metadata": {},
     "output_type": "execute_result"
    }
   ],
   "source": [
    "predictions = model(features)\n",
    "predictions[:5]"
   ]
  },
  {
   "cell_type": "code",
   "execution_count": 16,
   "metadata": {},
   "outputs": [
    {
     "data": {
      "text/plain": [
       "<tf.Tensor: id=234, shape=(5, 3), dtype=float32, numpy=\n",
       "array([[0.25910646, 0.3602186 , 0.38067493],\n",
       "       [0.32963198, 0.24927504, 0.42109305],\n",
       "       [0.33756813, 0.30968404, 0.35274783],\n",
       "       [0.31502643, 0.3431006 , 0.34187296],\n",
       "       [0.3408661 , 0.22716142, 0.4319725 ]], dtype=float32)>"
      ]
     },
     "execution_count": 16,
     "metadata": {},
     "output_type": "execute_result"
    }
   ],
   "source": [
    "tf.nn.softmax(predictions[:5])"
   ]
  },
  {
   "cell_type": "code",
   "execution_count": 17,
   "metadata": {},
   "outputs": [
    {
     "name": "stdout",
     "output_type": "stream",
     "text": [
      "Prediction:[2 2 2 1 2 2 2 2 2 2 2 2 2 2 2 2 2 1 2 2 2 2 2 2 2 2 2 2 2 2 2 2]\n",
      "    Labels:[2 0 1 2 0 0 0 0 1 0 2 0 0 1 1 0 1 1 2 2 2 0 2 0 0 1 0 0 0 1 1 1]\n"
     ]
    }
   ],
   "source": [
    "print(\"Prediction:{}\".format(tf.argmax(predictions,axis=1)))\n",
    "print(\"    Labels:{}\".format(labels))"
   ]
  },
  {
   "cell_type": "code",
   "execution_count": 18,
   "metadata": {},
   "outputs": [
    {
     "name": "stdout",
     "output_type": "stream",
     "text": [
      "WARNING:tensorflow:From d:\\Anaconda3\\lib\\site-packages\\tensorflow\\python\\ops\\losses\\losses_impl.py:209: to_float (from tensorflow.python.ops.math_ops) is deprecated and will be removed in a future version.\n",
      "Instructions for updating:\n",
      "Use tf.cast instead.\n",
      "Loss test:1.0899486541748047\n"
     ]
    }
   ],
   "source": [
    "def loss(model,x,y):\n",
    "    y_ = model(x)\n",
    "    return tf.losses.sparse_softmax_cross_entropy(labels=y,logits=y_)\n",
    "\n",
    "l = loss(model,features,labels)\n",
    "print(\"Loss test:{}\".format(l))"
   ]
  },
  {
   "cell_type": "code",
   "execution_count": 20,
   "metadata": {},
   "outputs": [],
   "source": [
    "def grad(model,inputs,targets):\n",
    "    with tf.GradientTape() as tape:\n",
    "        loss_value = loss(model,inputs,targets)\n",
    "    return loss_value,tape.gradient(loss_value,model.trainable_variables)"
   ]
  },
  {
   "cell_type": "code",
   "execution_count": 21,
   "metadata": {},
   "outputs": [],
   "source": [
    "optimizer = tf.train.GradientDescentOptimizer(learning_rate=0.01)\n",
    "global_step = tf.train.get_or_create_global_step()"
   ]
  },
  {
   "cell_type": "code",
   "execution_count": 22,
   "metadata": {},
   "outputs": [
    {
     "name": "stdout",
     "output_type": "stream",
     "text": [
      "Step:0,Initial Loss:1.0899486541748047\n",
      "Step: 1,        Loss:1.074742317199707\n"
     ]
    }
   ],
   "source": [
    "loss_value,grads = grad(model,features,labels)\n",
    "\n",
    "print(\"Step:{},Initial Loss:{}\".format(global_step.numpy(),\n",
    "                                      loss_value.numpy()))\n",
    "\n",
    "optimizer.apply_gradients(zip(grads,model.variables),global_step)\n",
    "\n",
    "print(\"Step: {},        Loss:{}\".format(global_step.numpy(),\n",
    "                                       loss(model,features,labels).numpy()))"
   ]
  },
  {
   "cell_type": "code",
   "execution_count": 27,
   "metadata": {},
   "outputs": [
    {
     "name": "stdout",
     "output_type": "stream",
     "text": [
      "Epoch 000: Loss: 1.027, Accuracy:35.000%\n",
      "Epoch 050: Loss: 0.380, Accuracy:90.833%\n",
      "Epoch 100: Loss: 0.240, Accuracy:97.500%\n",
      "Epoch 150: Loss: 0.172, Accuracy:97.500%\n",
      "Epoch 200: Loss: 0.129, Accuracy:98.333%\n"
     ]
    }
   ],
   "source": [
    "train_loss_results = []\n",
    "train_accuracy_results = []\n",
    "\n",
    "num_epochs = 201\n",
    "\n",
    "for epoch in range(num_epochs):\n",
    "    epoch_loss_avg = tfe.metrics.Mean()\n",
    "    epoch_accuracy = tfe.metrics.Accuracy()\n",
    "    \n",
    "    for x,y in train_dataset:\n",
    "        loss_value,grads = grad(model,x,y)\n",
    "        optimizer.apply_gradients(zip(grads,model.variables),\n",
    "                                 global_step)\n",
    "        \n",
    "        epoch_loss_avg(loss_value)\n",
    "        epoch_accuracy(tf.argmax(model(x), axis=1, output_type=tf.int32), y)\n",
    "\n",
    "        \n",
    "    train_loss_results.append(epoch_loss_avg.result())\n",
    "    train_accuracy_results.append(epoch_accuracy.result())\n",
    "    \n",
    "    if epoch % 50 == 0:\n",
    "        print(\"Epoch {:03d}: Loss: {:.3f}, Accuracy:{:.3%}\".format(epoch,\n",
    "                                                                  epoch_loss_avg.result(),\n",
    "                                                                  epoch_accuracy.result()))"
   ]
  },
  {
   "cell_type": "markdown",
   "metadata": {},
   "source": [
    "#### 可视化损失函数随时间推移而变化的情况\n",
    "虽然输出模型的训练过程有帮助，但查看这一过程往往更有帮助。TensorBoard是与TensorFlow封装在一起的出色可视化工具，不过我们可以使用matplotlib模块创建基本图表。\n",
    "\n",
    "解读这些图表需要一定的经验，不过您确实希望看到损失下降且准确率上升。"
   ]
  },
  {
   "cell_type": "code",
   "execution_count": 28,
   "metadata": {},
   "outputs": [
    {
     "data": {
      "text/plain": [
       "[<matplotlib.lines.Line2D at 0x1aa066b41d0>]"
      ]
     },
     "execution_count": 28,
     "metadata": {},
     "output_type": "execute_result"
    },
    {
     "data": {
      "image/png": "[encoded data removed]",
      "text/plain": [
       "<Figure size 864x576 with 2 Axes>"
      ]
     },
     "metadata": {
      "needs_background": "light"
     },
     "output_type": "display_data"
    }
   ],
   "source": [
    "fig,axes = plt.subplots(2,sharex=True,figsize=(12,8))\n",
    "fig.suptitle(\"Training Metrics\")\n",
    "\n",
    "axes[0].set_ylabel(\"Loss\",fontsize=14)\n",
    "axes[0].plot(train_loss_results)\n",
    "\n",
    "axes[1].set_ylabel(\"Accuracy\",fontsize=14)\n",
    "axes[1].set_xlabel(\"Epoch\",fontsize=14)\n",
    "axes[1].plot(train_accuracy_results)"
   ]
  },
  {
   "cell_type": "code",
   "execution_count": null,
   "metadata": {},
   "outputs": [],
   "source": []
  }
 ],
 "metadata": {
  "kernelspec": {
   "display_name": "Python 3",
   "language": "python",
   "name": "python3"
  },
  "language_info": {
   "codemirror_mode": {
    "name": "ipython",
    "version": 3
   },
   "file_extension": ".py",
   "mimetype": "text/x-python",
   "name": "python",
   "nbconvert_exporter": "python",
   "pygments_lexer": "ipython3",
   "version": "3.7.3"
  }
 },
 "nbformat": 4,
 "nbformat_minor": 2
}
