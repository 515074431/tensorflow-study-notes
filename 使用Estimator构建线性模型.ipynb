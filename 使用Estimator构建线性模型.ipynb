{
 "cells": [
  {
   "cell_type": "markdown",
   "metadata": {},
   "source": [
    "本教程使用TensorFlow中的`tf.estimator`API来解决基准二元分类问题.Estimator是可扩展性最强且面向生产的TensorFlow模型类型。如需了解详情，请参阅Estimator指南。\n",
    "\n",
    "##### 概述\n",
    "我们会使用包含个人年龄，受教育程度，婚姻状况和职业（即特征）数据在内的普查数据，尝试预测个人年收入是否超过5万美元（即目标标签）。我们会训练一个逻辑回归模型，若给出某个人的信息，该模型会输出一个介于0到1之间的值，可将该值解读为个人年收入超过5万美元的概率。\n",
    "\n",
    ">\n",
    "要点：。作为建模者兼开发者，需要考虑如何使用这些数据，以及模型预测可能会带来哪些潜在益处和危害类似这样的模型可能会加深社会偏见，扩大社会差异每个特征是否与您要解决的问题相关，或者是否会引入偏见？要了解详情，请参阅机器学习公平性。\n",
    "\n",
    "#### 设置\n",
    "导入TensorFlow，特征列支持和支持模块："
   ]
  },
  {
   "cell_type": "code",
   "execution_count": 1,
   "metadata": {},
   "outputs": [],
   "source": [
    "import tensorflow as tf\n",
    "import tensorflow.feature_column as fc\n",
    "\n",
    "import os\n",
    "import sys\n",
    "\n",
    "import matplotlib.pyplot as plt\n",
    "from IPython.display import clear_output"
   ]
  },
  {
   "cell_type": "markdown",
   "metadata": {},
   "source": [
    "然后启用Eager Execution，以在此程序运行时检查此程序："
   ]
  },
  {
   "cell_type": "code",
   "execution_count": 2,
   "metadata": {},
   "outputs": [],
   "source": [
    "tf.enable_eager_execution()"
   ]
  },
  {
   "cell_type": "code",
   "execution_count": 3,
   "metadata": {},
   "outputs": [],
   "source": [
    "models_path = os.path.join(os.getcwd(),'model/models/')\n",
    "sys.path.append(models_path)"
   ]
  },
  {
   "cell_type": "markdown",
   "metadata": {},
   "source": [
    "下载数据集："
   ]
  },
  {
   "cell_type": "code",
   "execution_count": 4,
   "metadata": {},
   "outputs": [],
   "source": [
    "from official.wide_deep import census_dataset\n",
    "from official.wide_deep import census_main\n",
    "\n",
    "census_dataset.download('data/tmp/census_data')"
   ]
  },
  {
   "cell_type": "markdown",
   "metadata": {},
   "source": [
    "##### 命令行用法\n",
    "该代码库包含一个完整的程序，可用于对此类模型进行实验。\n",
    "\n",
    "要从命令行执行教程代码，先将tensorflow / models路径添加到您的PYTHONPATH。"
   ]
  },
  {
   "cell_type": "code",
   "execution_count": 5,
   "metadata": {},
   "outputs": [],
   "source": [
    "#export PYTHONPATH=${PYTHONPATH}:\"$(pwd)/models\"\n",
    "#running from python you need to set the `os.environ` or the subprocess will not see the directory.\n",
    "\n",
    "\n",
    "if \"PYTHONPATH\"  in os.environ:\n",
    "    os.environ[\"PYTHONPATH\"] += os.pathsep + models_path\n",
    "else:\n",
    "    os.environ[\"PATHONPATH\"] = models_path"
   ]
  },
  {
   "cell_type": "code",
   "execution_count": 8,
   "metadata": {},
   "outputs": [
    {
     "name": "stderr",
     "output_type": "stream",
     "text": [
      "d:\\Anaconda3\\python.exe: Error while finding module specification for 'official.wide_deep.census_main' (ModuleNotFoundError: No module named 'official')\n"
     ]
    }
   ],
   "source": [
    "!python -m official.wide_deep.census_main --help"
   ]
  },
  {
   "cell_type": "code",
   "execution_count": null,
   "metadata": {},
   "outputs": [],
   "source": []
  }
 ],
 "metadata": {
  "kernelspec": {
   "display_name": "Python 3",
   "language": "python",
   "name": "python3"
  },
  "language_info": {
   "codemirror_mode": {
    "name": "ipython",
    "version": 3
   },
   "file_extension": ".py",
   "mimetype": "text/x-python",
   "name": "python",
   "nbconvert_exporter": "python",
   "pygments_lexer": "ipython3",
   "version": "3.7.3"
  }
 },
 "nbformat": 4,
 "nbformat_minor": 2
}
