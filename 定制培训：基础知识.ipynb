{
 "cells": [
  {
   "cell_type": "markdown",
   "metadata": {},
   "source": [
    "在本教程中，我们将使用先前教程中介绍的TensorFlow原语来进行一些简单的机器学习。\n",
    "\n",
    "TensorFlow还包括一个更高级别的神经网络API（tf.keras），它提供了有用的抽象来减少样板。我们强烈建议那些使用神经网络的人使用更高级别的API。但是，在这个简短的教程中，我们从第一原理开始介绍神经网络训练，以建立坚实的基础。\n",
    "\n",
    "#### 建立"
   ]
  },
  {
   "cell_type": "code",
   "execution_count": 1,
   "metadata": {},
   "outputs": [],
   "source": [
    "from __future__ import absolute_import,division,print_function,unicode_literals\n",
    "\n",
    "import tensorflow as tf\n",
    "\n",
    "tf.enable_eager_execution()"
   ]
  },
  {
   "cell_type": "markdown",
   "metadata": {},
   "source": [
    "#### 变量\n",
    "TensorFlow中的张量是不可变的无状态对象。然而，机器学习模型需要具有变化的状态：随着模型训练，计算预测的相同代码应该随着时间的推移而表现不同（希望具有较低的损失！）。要表示需要在计算过程中进行更改的状态，您可以选择依赖Python是一种有状态编程语言的事实："
   ]
  },
  {
   "cell_type": "code",
   "execution_count": 2,
   "metadata": {},
   "outputs": [
    {
     "name": "stdout",
     "output_type": "stream",
     "text": [
      "tf.Tensor(\n",
      "[[2. 2. 2. 2. 2. 2. 2. 2. 2. 2.]\n",
      " [2. 2. 2. 2. 2. 2. 2. 2. 2. 2.]\n",
      " [2. 2. 2. 2. 2. 2. 2. 2. 2. 2.]\n",
      " [2. 2. 2. 2. 2. 2. 2. 2. 2. 2.]\n",
      " [2. 2. 2. 2. 2. 2. 2. 2. 2. 2.]\n",
      " [2. 2. 2. 2. 2. 2. 2. 2. 2. 2.]\n",
      " [2. 2. 2. 2. 2. 2. 2. 2. 2. 2.]\n",
      " [2. 2. 2. 2. 2. 2. 2. 2. 2. 2.]\n",
      " [2. 2. 2. 2. 2. 2. 2. 2. 2. 2.]\n",
      " [2. 2. 2. 2. 2. 2. 2. 2. 2. 2.]], shape=(10, 10), dtype=float32)\n"
     ]
    }
   ],
   "source": [
    "#Using python state\n",
    "x = tf.zeros([10,10])\n",
    "x +=2 # Tthis is equivalent to x = x + 2 ,which dose not mutate the original\n",
    "        # value of x\n",
    "print(x)"
   ]
  },
  {
   "cell_type": "markdown",
   "metadata": {},
   "source": [
    "但是，TensorFlow内置了有状态操作，这些操作通常比您所在州的低级Python表示更令人愉快。例如，为了表示模型​​中的权重，使用TensorFlow变量通常是方便有效的。\n",
    "\n",
    "变量是一个存储值的对象，当在TensorFlow计算中使用时，它将隐式地从该存储值中读取。有些操作（`tf.assign_sub`，`tf.scatter_update`等）操纵存储在TensorFlow变量中的值。"
   ]
  },
  {
   "cell_type": "code",
   "execution_count": 3,
   "metadata": {},
   "outputs": [],
   "source": [
    "v = tf.Variable(1.0)\n",
    "assert v.numpy() == 1.0\n",
    "\n",
    "#Re-assign the value\n",
    "v.assign(3.0)\n",
    "assert v.numpy() == 3.0\n",
    "\n",
    "#Use 'v' in a Tensorflow operation like tf.square() adn reassign\n",
    "v.assign(tf.square(v))\n",
    "assert v.numpy() == 9.0"
   ]
  },
  {
   "cell_type": "markdown",
   "metadata": {},
   "source": [
    "计算梯度时会自动跟踪使用变量的计算。对于表示嵌入的变量，TensorFlow默认会进行稀疏更新，这样可以提高计算效率和内存效率。\n",
    "\n",
    "使用变量也是一种快速让代码的读者知道这段状态是可变的方法。\n",
    "\n",
    "#### 示例：拟合线性模型\n",
    "现在，我们让我们有几个概念至今---` Tensor`，`GradientTape`，`Variable`---建立和培养一个简单的模型。这通常涉及几个步骤：\n",
    "\n",
    "定义模型。\n",
    "定义损失函数。\n",
    "获取培训数据。\n",
    "运行训练数据并使用“优化器”调整变量以适合数据。\n",
    "在本教程中，我们将介绍一个简单线性模型的简单示例：`f(x) = x * W + b`它有两个变量 - W和b。此外，我们将合成数据，以便训练有素的模型具有`W = 3.0`和`b = 2.0`。\n",
    "\n",
    "#### 定义模型\n",
    "让我们定义一个简单的类来封装变量和计算。"
   ]
  },
  {
   "cell_type": "code",
   "execution_count": 4,
   "metadata": {},
   "outputs": [
    {
     "name": "stdout",
     "output_type": "stream",
     "text": [
      "WARNING:tensorflow:From d:\\Anaconda3\\lib\\site-packages\\tensorflow\\python\\ops\\resource_variable_ops.py:642: colocate_with (from tensorflow.python.framework.ops) is deprecated and will be removed in a future version.\n",
      "Instructions for updating:\n",
      "Colocations handled automatically by placer.\n"
     ]
    }
   ],
   "source": [
    "class Model(object):\n",
    "    def __init__(self):\n",
    "        self.W = tf.Variable(5.0)\n",
    "        self.b = tf.Variable(0.0)\n",
    "        \n",
    "    def __call__(self,x):\n",
    "        return self.W * x + self.b\n",
    "    \n",
    "model = Model()\n",
    "assert model(3.0).numpy() == 15.0"
   ]
  },
  {
   "cell_type": "markdown",
   "metadata": {},
   "source": [
    "#### 定义损失函数\n",
    "损失函数测量给定输入的模型输出与期望输出的匹配程度。让我们使用标准的L2损失。"
   ]
  },
  {
   "cell_type": "code",
   "execution_count": 5,
   "metadata": {},
   "outputs": [],
   "source": [
    "def loss(predicted_y,desired_y):\n",
    "    return tf.reduce_mean(tf.square(predicted_y - desired_y))"
   ]
  },
  {
   "cell_type": "markdown",
   "metadata": {},
   "source": [
    "#### 获取培训数据\n",
    "让我们用一些噪音合成训练数据。"
   ]
  },
  {
   "cell_type": "code",
   "execution_count": 6,
   "metadata": {},
   "outputs": [],
   "source": [
    "TRUE_W = 3.0\n",
    "TRUE_b = 2.0\n",
    "NUM_EXAMPLES = 1000\n",
    "\n",
    "inputs = tf.random_normal(shape=[NUM_EXAMPLES])\n",
    "noise = tf.random_normal(shape=[NUM_EXAMPLES])\n",
    "outputs = inputs *TRUE_W + TRUE_b + noise\n"
   ]
  },
  {
   "cell_type": "markdown",
   "metadata": {},
   "source": [
    "在我们训练模型之前，让我们可以看到模型现在所处的位置。我们将用红色绘制模型的预测，用蓝色绘制训练数据。"
   ]
  },
  {
   "cell_type": "code",
   "execution_count": 8,
   "metadata": {},
   "outputs": [
    {
     "data": {
      "image/png": "[encoded data removed]",
      "text/plain": [
       "<Figure size 432x288 with 1 Axes>"
      ]
     },
     "metadata": {
      "needs_background": "light"
     },
     "output_type": "display_data"
    }
   ],
   "source": [
    "import matplotlib.pyplot as plt\n",
    "\n",
    "plt.scatter(inputs,outputs,c='b')\n",
    "plt.scatter(inputs,model(inputs),c='r')\n",
    "plt.show()\n",
    "\n"
   ]
  },
  {
   "cell_type": "code",
   "execution_count": 9,
   "metadata": {},
   "outputs": [
    {
     "name": "stdout",
     "output_type": "stream",
     "text": [
      "Current loss:\n",
      "8.740504\n"
     ]
    }
   ],
   "source": [
    "print('Current loss:')\n",
    "print(loss(model(inputs),outputs).numpy())"
   ]
  },
  {
   "cell_type": "markdown",
   "metadata": {},
   "source": [
    "#### 定义训练循环\n",
    "我们现在拥有我们的网络和培训数据。让我们训练它，即使用训练数据来更新模型的变量（W和b），以便使用梯度下降来减少损失。在`tf.train.Optimizer`实现中捕获了许多梯度下降方案的变体。我们强烈建议使用这些实现，但本着从第一原则构建的精神，在这个特定的例子中，我们将自己实现基本的数学。"
   ]
  },
  {
   "cell_type": "code",
   "execution_count": 10,
   "metadata": {},
   "outputs": [],
   "source": [
    "def train(model,inputs,outputs,learning_rate):\n",
    "    with tf.GradientTape() as t:\n",
    "        current_loss = loss(model(inputs),outputs)\n",
    "        \n",
    "    dW,db = t.gradient(current_loss,[model.W,model.b])\n",
    "    model.W.assign_sub(learning_rate * dW)\n",
    "    model.b.assign_sub(learning_rate * db)"
   ]
  },
  {
   "cell_type": "markdown",
   "metadata": {},
   "source": [
    "最后，让我们通过反复训练数据运行，看看`W`和`b`发展。"
   ]
  },
  {
   "cell_type": "code",
   "execution_count": 19,
   "metadata": {},
   "outputs": [
    {
     "name": "stdout",
     "output_type": "stream",
     "text": [
      "Epoch  0: W=5.00 b=0.00, loss=8.74050\n",
      "Epoch  1: W=4.61 b=0.40, loss=5.93922\n",
      "Epoch  2: W=4.30 b=0.72, loss=4.14407\n",
      "Epoch  3: W=4.04 b=0.97, loss=2.99368\n",
      "Epoch  4: W=3.84 b=1.17, loss=2.25645\n",
      "Epoch  5: W=3.68 b=1.34, loss=1.78399\n",
      "Epoch  6: W=3.55 b=1.47, loss=1.48121\n",
      "Epoch  7: W=3.45 b=1.57, loss=1.28716\n",
      "Epoch  8: W=3.36 b=1.65, loss=1.16279\n",
      "Epoch  9: W=3.30 b=1.72, loss=1.08309\n",
      "Epoch 10: W=3.24 b=1.77, loss=1.03200\n",
      "Epoch 11: W=3.20 b=1.81, loss=0.99926\n",
      "Epoch 12: W=3.17 b=1.85, loss=0.97827\n",
      "Epoch 13: W=3.14 b=1.87, loss=0.96482\n",
      "Epoch 14: W=3.12 b=1.89, loss=0.95620\n",
      "Epoch 15: W=3.10 b=1.91, loss=0.95067\n",
      "Epoch 16: W=3.08 b=1.93, loss=0.94713\n",
      "Epoch 17: W=3.07 b=1.94, loss=0.94486\n",
      "Epoch 18: W=3.06 b=1.95, loss=0.94341\n",
      "Epoch 19: W=3.06 b=1.95, loss=0.94247\n",
      "Epoch 20: W=3.05 b=1.96, loss=0.94188\n",
      "Epoch 21: W=3.04 b=1.96, loss=0.94149\n",
      "Epoch 22: W=3.04 b=1.97, loss=0.94125\n",
      "Epoch 23: W=3.04 b=1.97, loss=0.94109\n",
      "Epoch 24: W=3.03 b=1.97, loss=0.94099\n",
      "Epoch 25: W=3.03 b=1.97, loss=0.94092\n",
      "Epoch 26: W=3.03 b=1.97, loss=0.94088\n",
      "Epoch 27: W=3.03 b=1.98, loss=0.94085\n",
      "Epoch 28: W=3.03 b=1.98, loss=0.94084\n",
      "Epoch 29: W=3.03 b=1.98, loss=0.94083\n",
      "Epoch 30: W=3.03 b=1.98, loss=0.94082\n",
      "Epoch 31: W=3.03 b=1.98, loss=0.94082\n",
      "Epoch 32: W=3.03 b=1.98, loss=0.94081\n",
      "Epoch 33: W=3.03 b=1.98, loss=0.94081\n",
      "Epoch 34: W=3.03 b=1.98, loss=0.94081\n",
      "Epoch 35: W=3.03 b=1.98, loss=0.94081\n",
      "Epoch 36: W=3.03 b=1.98, loss=0.94081\n",
      "Epoch 37: W=3.03 b=1.98, loss=0.94081\n",
      "Epoch 38: W=3.03 b=1.98, loss=0.94081\n",
      "Epoch 39: W=3.03 b=1.98, loss=0.94081\n"
     ]
    },
    {
     "data": {
      "image/png": "[encoded data removed]",
      "text/plain": [
       "<Figure size 432x288 with 1 Axes>"
      ]
     },
     "metadata": {
      "needs_background": "light"
     },
     "output_type": "display_data"
    }
   ],
   "source": [
    "model = Model()\n",
    "\n",
    "Ws,bs = [],[]\n",
    "epochs = range(40)\n",
    "for epoch in epochs:\n",
    "    Ws.append(model.W.numpy())\n",
    "    bs.append(model.b.numpy())\n",
    "    current_loss = loss(model(inputs),outputs)\n",
    "    \n",
    "    train(model,inputs,outputs,learning_rate=0.1)\n",
    "    print('Epoch %2d: W=%1.2f b=%1.2f, loss=%2.5f' %\n",
    "         (epoch,Ws[-1],bs[-1],current_loss))\n",
    "    \n",
    "    \n",
    "plt.plot(epochs,Ws,'r',\n",
    "        epochs,bs,'b')\n",
    "plt.plot([TRUE_W]* len(epochs),'r--',\n",
    "        [TRUE_b]*len(epochs),'b--')\n",
    "plt.legend(['W','b','true W','true b'])\n",
    "plt.show()"
   ]
  },
  {
   "cell_type": "code",
   "execution_count": null,
   "metadata": {},
   "outputs": [],
   "source": []
  }
 ],
 "metadata": {
  "kernelspec": {
   "display_name": "Python 3",
   "language": "python",
   "name": "python3"
  },
  "language_info": {
   "codemirror_mode": {
    "name": "ipython",
    "version": 3
   },
   "file_extension": ".py",
   "mimetype": "text/x-python",
   "name": "python",
   "nbconvert_exporter": "python",
   "pygments_lexer": "ipython3",
   "version": "3.7.3"
  }
 },
 "nbformat": 4,
 "nbformat_minor": 2
}
